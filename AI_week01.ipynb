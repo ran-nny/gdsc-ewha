{
 "cells": [
  {
   "cell_type": "markdown",
   "metadata": {
    "id": "r763xkirkmjC"
   },
   "source": [
    "# 2강. 파이썬 응용 및 크롤링\n",
    "\n",
    "데이터를 분석하기에 앞서 직접 데이터를 수집합니다. AI 모델링의 시작은 데이터에 대한 이해를 높이는 것입니다. 최근 Data-driven Modeling 방식이 대두되고 있습니다. 모델일 상향 평준화된 만큼, 모델 구조를 바꾸기보다는 어떤 데이터를 입력해야 성능을 높일 수 있는지 연구하는 것입니다. 아무리 모델이 좋더라도 학습에 활용되는 데이터의 퀄리티가 높지 않으면 성능이 떨어질 수밖에 없습니다. 또한, 모델링에 집중하다 보면 내가 처리하고자 하는 데이터에 대한 이해를 놓치는 경우가 많습니다. 비록 앞으로 직접 데이터를 수집하는 일이 많지 않다고 하더라도, 데이터를 먼저 살펴보시기를 권장합니다."
   ]
  },
  {
   "cell_type": "markdown",
   "metadata": {
    "id": "kTZJ2KzalyY-"
   },
   "source": [
    "## Selenium 활용 동적 크롤링\n",
    "\n",
    "Selenium은 웹을 동작시키는 하나의 도구입니다. Colab 환경에서는 실제로 웹이 동작하는 화면을 띄울 수는 없지만, 가상의 브라우저를 동작시킬 수 있습니다.\n",
    "\n",
    "Selenium 패키지는 자주 업데이트 되기 때문에 Colab 환경에서 Selenium 설치하는 방법은 계속 매번 달라집니다. 여기서 코드는 [블로그](https://velog.io/@kite_day/colab-%EC%97%90%EC%84%9C-%EC%9B%B9-%ED%81%AC%EB%A1%A4%EB%A7%81%ED%95%98%EA%B8%B0-selenium)를 참고했습니다."
   ]
  },
  {
   "cell_type": "code",
   "execution_count": 1,
   "metadata": {
    "ExecuteTime": {
     "end_time": "2024-09-27T15:16:10.827868Z",
     "start_time": "2024-09-27T15:16:10.826691Z"
    },
    "id": "2tAKqOVuiQgc"
   },
   "outputs": [],
   "source": [
    "# from google.colab import drive\n",
    "# drive.mount('/content/drive')"
   ]
  },
  {
   "cell_type": "code",
   "execution_count": 2,
   "metadata": {
    "ExecuteTime": {
     "end_time": "2024-09-27T15:16:12.474951Z",
     "start_time": "2024-09-27T15:16:10.828560Z"
    },
    "id": "sf-S6AlljByp"
   },
   "outputs": [
    {
     "name": "stdout",
     "output_type": "stream",
     "text": [
      "Requirement already satisfied: selenium in /opt/anaconda3/lib/python3.12/site-packages (4.25.0)\n",
      "Requirement already satisfied: urllib3<3,>=1.26 in /opt/anaconda3/lib/python3.12/site-packages (from urllib3[socks]<3,>=1.26->selenium) (2.2.2)\n",
      "Requirement already satisfied: trio~=0.17 in /opt/anaconda3/lib/python3.12/site-packages (from selenium) (0.26.2)\n",
      "Requirement already satisfied: trio-websocket~=0.9 in /opt/anaconda3/lib/python3.12/site-packages (from selenium) (0.11.1)\n",
      "Requirement already satisfied: certifi>=2021.10.8 in /opt/anaconda3/lib/python3.12/site-packages (from selenium) (2024.8.30)\n",
      "Requirement already satisfied: typing_extensions~=4.9 in /opt/anaconda3/lib/python3.12/site-packages (from selenium) (4.11.0)\n",
      "Requirement already satisfied: websocket-client~=1.8 in /opt/anaconda3/lib/python3.12/site-packages (from selenium) (1.8.0)\n",
      "Requirement already satisfied: attrs>=23.2.0 in /opt/anaconda3/lib/python3.12/site-packages (from trio~=0.17->selenium) (24.2.0)\n",
      "Requirement already satisfied: sortedcontainers in /opt/anaconda3/lib/python3.12/site-packages (from trio~=0.17->selenium) (2.4.0)\n",
      "Requirement already satisfied: idna in /opt/anaconda3/lib/python3.12/site-packages (from trio~=0.17->selenium) (3.7)\n",
      "Requirement already satisfied: outcome in /opt/anaconda3/lib/python3.12/site-packages (from trio~=0.17->selenium) (1.3.0.post0)\n",
      "Requirement already satisfied: sniffio>=1.3.0 in /opt/anaconda3/lib/python3.12/site-packages (from trio~=0.17->selenium) (1.3.0)\n",
      "Requirement already satisfied: wsproto>=0.14 in /opt/anaconda3/lib/python3.12/site-packages (from trio-websocket~=0.9->selenium) (1.2.0)\n",
      "Requirement already satisfied: pysocks!=1.5.7,<2.0,>=1.5.6 in /opt/anaconda3/lib/python3.12/site-packages (from urllib3[socks]<3,>=1.26->selenium) (1.7.1)\n",
      "Requirement already satisfied: h11<1,>=0.9.0 in /opt/anaconda3/lib/python3.12/site-packages (from wsproto>=0.14->trio-websocket~=0.9->selenium) (0.14.0)\n",
      "zsh:1: command not found: apt-get\n",
      "The operation couldn’t be completed. Unable to locate a Java Runtime.\n",
      "Please visit http://www.java.com for information on installing Java.\n",
      "\n",
      "cp: /usr/lib/chromium-browser/chromedriver: No such file or directory\n",
      "Requirement already satisfied: chromedriver-autoinstaller in /opt/anaconda3/lib/python3.12/site-packages (0.6.4)\n",
      "Requirement already satisfied: packaging>=23.1 in /opt/anaconda3/lib/python3.12/site-packages (from chromedriver-autoinstaller) (24.1)\n"
     ]
    }
   ],
   "source": [
    "!pip install selenium\n",
    "!apt-get update\n",
    "!apt install chromium-chromedriver\n",
    "!cp /usr/lib/chromium-browser/chromedriver '/content/drive/MyDrive/Colab Notebooks'\n",
    "!pip install chromedriver-autoinstaller"
   ]
  },
  {
   "cell_type": "code",
   "execution_count": 3,
   "metadata": {
    "ExecuteTime": {
     "end_time": "2024-09-27T15:16:12.599739Z",
     "start_time": "2024-09-27T15:16:12.476498Z"
    },
    "id": "KimoK9FXjMrV"
   },
   "outputs": [
    {
     "name": "stdout",
     "output_type": "stream",
     "text": [
      "Python 3.12.2\n",
      "4.25.0\n"
     ]
    }
   ],
   "source": [
    "# selenium 설치 확인\n",
    "!python --version\n",
    "\n",
    "import selenium\n",
    "print(selenium.__version__)"
   ]
  },
  {
   "cell_type": "code",
   "execution_count": 4,
   "metadata": {
    "ExecuteTime": {
     "end_time": "2024-09-27T15:16:12.970491Z",
     "start_time": "2024-09-27T15:16:12.602743Z"
    },
    "id": "oNCsMYZwjqjT"
   },
   "outputs": [],
   "source": [
    "from selenium import webdriver\n",
    "from selenium.webdriver.support.ui import WebDriverWait\n",
    "from selenium.webdriver.support import expected_conditions as EC\n",
    "from selenium.webdriver.common.by import By\n",
    "import sys\n",
    "from selenium.webdriver.common.keys import Keys\n",
    "import urllib.request\n",
    "import os\n",
    "from urllib.request import urlretrieve\n",
    "\n",
    "import time\n",
    "import pandas as pd\n",
    "import chromedriver_autoinstaller  # setup chrome options"
   ]
  },
  {
   "cell_type": "code",
   "execution_count": 5,
   "metadata": {
    "ExecuteTime": {
     "end_time": "2024-09-27T15:16:12.973217Z",
     "start_time": "2024-09-27T15:16:12.971688Z"
    },
    "id": "npcy8eVWjtB9"
   },
   "outputs": [],
   "source": [
    "chrome_path = \"/content/drive/MyDrive/Colab Notebooks/chromedriver\""
   ]
  },
  {
   "cell_type": "code",
   "execution_count": 6,
   "metadata": {
    "ExecuteTime": {
     "end_time": "2024-09-27T15:16:13.495109Z",
     "start_time": "2024-09-27T15:16:12.973716Z"
    },
    "id": "p7HFznW0ju6H"
   },
   "outputs": [
    {
     "data": {
      "text/plain": [
       "'/opt/anaconda3/lib/python3.12/site-packages/chromedriver_autoinstaller/129/chromedriver'"
      ]
     },
     "execution_count": 6,
     "metadata": {},
     "output_type": "execute_result"
    }
   ],
   "source": [
    "sys.path.insert(0,chrome_path)\n",
    "chrome_options = webdriver.ChromeOptions()\n",
    "chrome_options.add_argument('--headless') # Colab은 새창을 지원하지않기 때문에 창을 띄우지 않는 Headless 모드로 실행해야 합니다.\n",
    "chrome_options.add_argument('--no-sandbox')\n",
    "chrome_options.add_argument('--disable-dev-shm-usage')  # set path to chromedriver as per your configuration\n",
    "chrome_options.add_argument('lang=ko_KR') # 한국어\n",
    "\n",
    "chromedriver_autoinstaller.install()  # set the target URL"
   ]
  },
  {
   "cell_type": "markdown",
   "metadata": {
    "id": "NuFmSmwozIcR"
   },
   "source": [
    "## 스포츠 네이버 뉴스 기사 데이터 수집\n",
    "\n",
    "Selenium과 BeautifulSoup을 활용해서 네이버에서 제공하는 스포츠 뉴스 기사를 수집합니다."
   ]
  },
  {
   "cell_type": "code",
   "execution_count": 27,
   "metadata": {
    "ExecuteTime": {
     "end_time": "2024-09-27T15:18:36.082168Z",
     "start_time": "2024-09-27T15:18:35.616103Z"
    },
    "id": "RpcM3apIjwtA"
   },
   "outputs": [],
   "source": [
    "driver = webdriver.Chrome(options=chrome_options)"
   ]
  },
  {
   "cell_type": "code",
   "execution_count": 28,
   "metadata": {
    "ExecuteTime": {
     "end_time": "2024-09-27T15:18:37.525559Z",
     "start_time": "2024-09-27T15:18:36.779986Z"
    },
    "id": "CbT13qkAkIAO"
   },
   "outputs": [],
   "source": [
    "# 네이버에서 제공하는 링크\n",
    "url = 'https://sports.news.naver.com/wfootball/news/index?isphoto=N&date=20240927'\n",
    "\n",
    "# 드라이버로 URL 접속하기\n",
    "driver.get(url)"
   ]
  },
  {
   "cell_type": "code",
   "execution_count": 29,
   "metadata": {
    "ExecuteTime": {
     "end_time": "2024-09-27T15:18:38.094449Z",
     "start_time": "2024-09-27T15:18:38.074938Z"
    },
    "id": "2E306vzikVjy"
   },
   "outputs": [],
   "source": [
    "# 드라이버에서 페이지 소스 코드 불러오기\n",
    "html = driver.page_source"
   ]
  },
  {
   "cell_type": "code",
   "execution_count": 30,
   "metadata": {
    "ExecuteTime": {
     "end_time": "2024-09-27T15:18:40.168870Z",
     "start_time": "2024-09-27T15:18:40.130767Z"
    },
    "id": "CjDSUCgVkXOY"
   },
   "outputs": [],
   "source": [
    "# BeautifulSoup 객체 생성\n",
    "from bs4 import BeautifulSoup\n",
    "\n",
    "soup = BeautifulSoup(html, 'html.parser')"
   ]
  },
  {
   "cell_type": "code",
   "execution_count": 31,
   "metadata": {
    "ExecuteTime": {
     "end_time": "2024-09-27T15:18:41.864844Z",
     "start_time": "2024-09-27T15:18:41.852376Z"
    },
    "id": "P7-4_4Yfm8i-"
   },
   "outputs": [
    {
     "data": {
      "text/plain": [
       "[<li>\n",
       " <a class=\"thmb\" href=\"https://m.sports.naver.com/wfootball/article/413/0000184297\" onclick=\"clickcr(this, 'nwl.image', '', '', event);\">\n",
       " <img alt=\"'맨유 팬들 서운하다' 데뷔골 터뜨린 맥토미니, &quot;나폴리 팬들이 세계 최고&quot;\" class=\"lazyLoadImage\" lazy-src=\"https://imgnews.pstatic.net/image/origin/413/2024/09/27/184297.jpg?type=w140\" src=\"https://imgnews.pstatic.net/image/origin/413/2024/09/27/184297.jpg?type=w140\" width=\"140\"/>\n",
       " <span class=\"mask\"></span>\n",
       " </a>\n",
       " <div class=\"text\">\n",
       " <a class=\"title\" href=\"https://m.sports.naver.com/wfootball/article/413/0000184297\" onclick=\"clickcr(this, 'nwl.title', '', '', event);\"><span>'맨유 팬들 서운하다' 데뷔골 터뜨린 맥토미니, \"나폴리 팬들이 세계 최고\"</span></a>\n",
       " <p class=\"desc\">사진 = BBC스콧 맥토미니가 나폴리에 애정을 드러냈다.나폴리는 27일 오전 4시(이하 한국시간) 이탈리아 나폴리에 위치한 스타디오 디에고 아르만도 마라도나...</p>\n",
       " <div class=\"source\">\n",
       " <span class=\"press\">인터풋볼</span>\n",
       " <span class=\"time\"><span class=\"bar\"></span>2024.09.27 23:50</span>\n",
       " </div>\n",
       " </div>\n",
       " </li>,\n",
       " <li>\n",
       " <a class=\"thmb\" href=\"https://m.sports.naver.com/wfootball/article/411/0000052771\" onclick=\"clickcr(this, 'nwl.image', '', '', event);\">\n",
       " <img alt=\"'선발 유력' 이강인의 달라진 위상, &quot;PSG 대표하는 스타될 수 있어&quot; 현지 매체의 '극찬'\" class=\"lazyLoadImage\" lazy-src=\"https://imgnews.pstatic.net/image/origin/411/2024/09/27/52771.jpg?type=w140\" src=\"https://imgnews.pstatic.net/image/origin/411/2024/09/27/52771.jpg?type=w140\" width=\"140\"/>\n",
       " <span class=\"mask\"></span>\n",
       " </a>\n",
       " <div class=\"text\">\n",
       " <a class=\"title\" href=\"https://m.sports.naver.com/wfootball/article/411/0000052771\" onclick=\"clickcr(this, 'nwl.title', '', '', event);\"><span>'선발 유력' 이강인의 달라진 위상, \"PSG 대표하는 스타될 수 있어\" 현지 매체의 '극찬'</span></a>\n",
       " <p class=\"desc\">사진=이강인 SNS사진=게티 이미지[포포투=박진우]파리 생제르맹(PSG) 내 이강인의 위상은 지난 시즌과 확연히 달라졌다.프랑스 매체 'le 10 sport...</p>\n",
       " <div class=\"source\">\n",
       " <span class=\"press\">포포투</span>\n",
       " <span class=\"time\"><span class=\"bar\"></span>2024.09.27 23:46</span>\n",
       " </div>\n",
       " </div>\n",
       " </li>,\n",
       " <li>\n",
       " <a class=\"thmb\" href=\"https://m.sports.naver.com/wfootball/article/311/0001776375\" onclick=\"clickcr(this, 'nwl.image', '', '', event);\">\n",
       " <img alt=\"17살에 주급 5300만원…'18G 32골' U-18 PL 득점왕, 아스널 NO 맨유행 'Here we go'\" class=\"lazyLoadImage\" lazy-src=\"https://imgnews.pstatic.net/image/origin/311/2024/09/27/1776375.jpg?type=w140\" src=\"https://imgnews.pstatic.net/image/origin/311/2024/09/27/1776375.jpg?type=w140\" width=\"140\"/>\n",
       " <span class=\"mask\"></span>\n",
       " </a>\n",
       " <div class=\"text\">\n",
       " <a class=\"title\" href=\"https://m.sports.naver.com/wfootball/article/311/0001776375\" onclick=\"clickcr(this, 'nwl.title', '', '', event);\"><span>17살에 주급 5300만원…'18G 32골' U-18 PL 득점왕, 아스널 NO 맨유행 'Here we go'</span></a>\n",
       " <p class=\"desc\">(엑스포츠뉴스 권동환 기자) 맨체스터 유나이티드가 아스널 특급 유망주 공격수 치도 오비 마틴을 품기 일보 직전이다.유럽 축구 이적시장 전문가 파브리치오 로마...</p>\n",
       " <div class=\"source\">\n",
       " <span class=\"press\">엑스포츠뉴스</span>\n",
       " <span class=\"time\"><span class=\"bar\"></span>2024.09.27 23:43</span>\n",
       " </div>\n",
       " </div>\n",
       " </li>,\n",
       " <li>\n",
       " <a class=\"thmb\" href=\"https://m.sports.naver.com/wfootball/article/139/0002210965\" onclick=\"clickcr(this, 'nwl.image', '', '', event);\">\n",
       " <img alt='그동안 후보였던 이유가 있었다! 전반 7분 만에 어이없는 반칙 → 다이렉트 퇴장...英 매체 \"끔찍한 결정이었다\" 혹평' class=\"lazyLoadImage\" lazy-src=\"https://imgnews.pstatic.net/image/origin/139/2024/09/27/2210965.jpg?type=w140\" src=\"https://imgnews.pstatic.net/image/origin/139/2024/09/27/2210965.jpg?type=w140\" width=\"140\"/>\n",
       " <span class=\"mask\"></span>\n",
       " </a>\n",
       " <div class=\"text\">\n",
       " <a class=\"title\" href=\"https://m.sports.naver.com/wfootball/article/139/0002210965\" onclick=\"clickcr(this, 'nwl.title', '', '', event);\"><span>그동안 후보였던 이유가 있었다! 전반 7분 만에 어이없는 반칙 → 다이렉트 퇴장...英 매체 \"끔찍한 결정이었다\" 혹평</span></a>\n",
       " <p class=\"desc\">[스포탈코리아] 이성민 기자= 토트넘 홋스퍼의 수비수 라두 드라구신이 어이없는 실책으로 퇴장당했다.토트넘은 27일(한국시간) 영국 런던에 위치한 토트넘 홋스...</p>\n",
       " <div class=\"source\">\n",
       " <span class=\"press\">스포탈코리아</span>\n",
       " <span class=\"time\"><span class=\"bar\"></span>2024.09.27 23:40</span>\n",
       " </div>\n",
       " </div>\n",
       " </li>,\n",
       " <li>\n",
       " <a class=\"thmb\" href=\"https://m.sports.naver.com/wfootball/article/311/0001776373\" onclick=\"clickcr(this, 'nwl.image', '', '', event);\">\n",
       " <img alt=\"로드리 '시즌 OUT' 확정!…과르디올라 &quot;십자인대+반월판 수술 진행, 다음 시즌에 돌아올 것&quot; [오피셜]\" class=\"lazyLoadImage\" lazy-src=\"https://imgnews.pstatic.net/image/origin/311/2024/09/27/1776373.jpg?type=w140\" src=\"https://imgnews.pstatic.net/image/origin/311/2024/09/27/1776373.jpg?type=w140\" width=\"140\"/>\n",
       " <span class=\"mask\"></span>\n",
       " </a>\n",
       " <div class=\"text\">\n",
       " <a class=\"title\" href=\"https://m.sports.naver.com/wfootball/article/311/0001776373\" onclick=\"clickcr(this, 'nwl.title', '', '', event);\"><span>로드리 '시즌 OUT' 확정!…과르디올라 \"십자인대+반월판 수술 진행, 다음 시즌에 돌아올 것\" [오피셜]</span></a>\n",
       " <p class=\"desc\">맨체스터 시티는 27일(한국시간) 구단 공식 홈페이지를 통해 핵심 미드필더 로드리가 전방십자인대와 반월판을 다쳐 수술대에 올랐다고 발표했다. 맨시티를 이끄는...</p>\n",
       " <div class=\"source\">\n",
       " <span class=\"press\">엑스포츠뉴스</span>\n",
       " <span class=\"time\"><span class=\"bar\"></span>2024.09.27 23:35</span>\n",
       " </div>\n",
       " </div>\n",
       " </li>,\n",
       " <li>\n",
       " <a class=\"thmb\" href=\"https://m.sports.naver.com/wfootball/article/413/0000184296\" onclick=\"clickcr(this, 'nwl.image', '', '', event);\">\n",
       " <img alt=\"&quot;비참하게 실패한&quot; 첼시 '1000억' 사나이, 탈출 원한다... 계약 7년 남았는데?\" class=\"lazyLoadImage\" lazy-src=\"https://imgnews.pstatic.net/image/origin/413/2024/09/27/184296.jpg?type=w140\" src=\"https://imgnews.pstatic.net/image/origin/413/2024/09/27/184296.jpg?type=w140\" width=\"140\"/>\n",
       " <span class=\"mask\"></span>\n",
       " </a>\n",
       " <div class=\"text\">\n",
       " <a class=\"title\" href=\"https://m.sports.naver.com/wfootball/article/413/0000184296\" onclick=\"clickcr(this, 'nwl.title', '', '', event);\"><span>\"비참하게 실패한\" 첼시 '1000억' 사나이, 탈출 원한다... 계약 7년 남았는데?</span></a>\n",
       " <p class=\"desc\">미하일로 무드리크가 이적을 원한다는 소식이다.영국 '컷오프사이드'는 27일(한국시간) 영국 '풋볼 인사이더'를 인용하여 \"무드리크는 1월 이적시장에서 첼시를...</p>\n",
       " <div class=\"source\">\n",
       " <span class=\"press\">인터풋볼</span>\n",
       " <span class=\"time\"><span class=\"bar\"></span>2024.09.27 23:32</span>\n",
       " </div>\n",
       " </div>\n",
       " </li>,\n",
       " <li>\n",
       " <a class=\"thmb\" href=\"https://m.sports.naver.com/wfootball/article/411/0000052770\" onclick=\"clickcr(this, 'nwl.image', '', '', event);\">\n",
       " <img alt=\"'히로키에 밀린다고?' 김민재, 증명의 기회 왔다…&quot;레버쿠젠 상대로 안정된 실력 증명할 것&quot;\" class=\"lazyLoadImage\" lazy-src=\"https://imgnews.pstatic.net/image/origin/411/2024/09/27/52770.jpg?type=w140\" src=\"https://imgnews.pstatic.net/image/origin/411/2024/09/27/52770.jpg?type=w140\" width=\"140\"/>\n",
       " <span class=\"mask\"></span>\n",
       " </a>\n",
       " <div class=\"text\">\n",
       " <a class=\"title\" href=\"https://m.sports.naver.com/wfootball/article/411/0000052770\" onclick=\"clickcr(this, 'nwl.title', '', '', event);\"><span>'히로키에 밀린다고?' 김민재, 증명의 기회 왔다…\"레버쿠젠 상대로 안정된 실력 증명할 것\"</span></a>\n",
       " <p class=\"desc\">사진=게티 이미지사진=게티 이미지[포포투=박진우]독일 매체 '키커'의 계속되는 혹평 세례를 맞은 김민재. 끝내 증명의 기회가 찾아왔다. 다른 현지 매체는 김...</p>\n",
       " <div class=\"source\">\n",
       " <span class=\"press\">포포투</span>\n",
       " <span class=\"time\"><span class=\"bar\"></span>2024.09.27 23:25</span>\n",
       " </div>\n",
       " </div>\n",
       " </li>,\n",
       " <li>\n",
       " <a class=\"thmb\" href=\"https://m.sports.naver.com/wfootball/article/477/0000514052\" onclick=\"clickcr(this, 'nwl.image', '', '', event);\">\n",
       " <img alt='손흥민 천만다행, 허벅지 붙잡았어도 부상 피했다…\"훈련 참여 원해, 심하지 않은 듯\"' class=\"lazyLoadImage\" lazy-src=\"https://imgnews.pstatic.net/image/origin/477/2024/09/27/514052.jpg?type=w140\" src=\"https://imgnews.pstatic.net/image/origin/477/2024/09/27/514052.jpg?type=w140\" width=\"140\"/>\n",
       " <span class=\"mask\"></span>\n",
       " </a>\n",
       " <div class=\"text\">\n",
       " <a class=\"title\" href=\"https://m.sports.naver.com/wfootball/article/477/0000514052\" onclick=\"clickcr(this, 'nwl.title', '', '', event);\"><span>손흥민 천만다행, 허벅지 붙잡았어도 부상 피했다…\"훈련 참여 원해, 심하지 않은 듯\"</span></a>\n",
       " <p class=\"desc\">▲ 유럽과 아시아를 오가며 강행군을 이어왔던 손흥민이 결국 쓰러졌다. 27일 영국 런던 토트넘 홋스퍼 스타디움에서 열린 2024-25시즌 유럽축구연맹 유로파...</p>\n",
       " <div class=\"source\">\n",
       " <span class=\"press\">스포티비뉴스</span>\n",
       " <span class=\"time\"><span class=\"bar\"></span>2024.09.27 23:20</span>\n",
       " </div>\n",
       " </div>\n",
       " </li>,\n",
       " <li>\n",
       " <a class=\"thmb\" href=\"https://m.sports.naver.com/wfootball/article/109/0005164238\" onclick=\"clickcr(this, 'nwl.image', '', '', event);\">\n",
       " <img alt=\"리그 우승 도전에 치명적...'승리 요정' 로드리, 시즌아웃...전방십자인대-반월판 수술 [공식발표]\" class=\"lazyLoadImage\" lazy-src=\"https://imgnews.pstatic.net/image/origin/109/2024/09/27/5164238.jpg?type=w140\" src=\"https://imgnews.pstatic.net/image/origin/109/2024/09/27/5164238.jpg?type=w140\" width=\"140\"/>\n",
       " <span class=\"mask\"></span>\n",
       " </a>\n",
       " <div class=\"text\">\n",
       " <a class=\"title\" href=\"https://m.sports.naver.com/wfootball/article/109/0005164238\" onclick=\"clickcr(this, 'nwl.title', '', '', event);\"><span>리그 우승 도전에 치명적...'승리 요정' 로드리, 시즌아웃...전방십자인대-반월판 수술 [공식발표]</span></a>\n",
       " <p class=\"desc\">[사진] ⓒGettyimages(무단전재 및 재배포 금지)[OSEN=정승우 기자] 로드리(28, 맨시티)의 시즌이 끝났다. 맨체스터 시티는 27일(이하 한국...</p>\n",
       " <div class=\"source\">\n",
       " <span class=\"press\">OSEN</span>\n",
       " <span class=\"time\"><span class=\"bar\"></span>2024.09.27 23:08</span>\n",
       " </div>\n",
       " </div>\n",
       " </li>,\n",
       " <li>\n",
       " <a class=\"thmb\" href=\"https://m.sports.naver.com/wfootball/article/117/0003874891\" onclick=\"clickcr(this, 'nwl.image', '', '', event);\">\n",
       " <img alt=\"&quot;너희들은 그래서 절대 우승하지 못해!&quot;…'독설가'의 비판, &quot;아스널, 작은 클럽의 작은 사고방식&quot;\" class=\"lazyLoadImage\" lazy-src=\"https://imgnews.pstatic.net/image/origin/117/2024/09/27/3874891.jpg?type=w140\" src=\"https://imgnews.pstatic.net/image/origin/117/2024/09/27/3874891.jpg?type=w140\" width=\"140\"/>\n",
       " <span class=\"mask\"></span>\n",
       " </a>\n",
       " <div class=\"text\">\n",
       " <a class=\"title\" href=\"https://m.sports.naver.com/wfootball/article/117/0003874891\" onclick=\"clickcr(this, 'nwl.title', '', '', event);\"><span>\"너희들은 그래서 절대 우승하지 못해!\"…'독설가'의 비판, \"아스널, 작은 클럽의 작은 사고방식\"</span></a>\n",
       " <p class=\"desc\">미켈 아르테타 아스널 감독과 펩 과르디올라 맨체스터 시티 감독/게티이미지코리아맨체스터 시티전에 나선 아스널 선수단/게티이미지코리아 [마이데일리 = 최용재 기...</p>\n",
       " <div class=\"source\">\n",
       " <span class=\"press\">마이데일리</span>\n",
       " <span class=\"time\"><span class=\"bar\"></span>2024.09.27 23:00</span>\n",
       " </div>\n",
       " </div>\n",
       " </li>,\n",
       " <li>\n",
       " <a class=\"thmb\" href=\"https://m.sports.naver.com/wfootball/article/413/0000184293\" onclick=\"clickcr(this, 'nwl.image', '', '', event);\">\n",
       " <img alt='\"재계약? 대화 없었다\" 손흥민→토트넘 압박한 포스텍 \"SON 계속 머물기를 바란다\"' class=\"lazyLoadImage\" lazy-src=\"https://imgnews.pstatic.net/image/origin/413/2024/09/27/184293.jpg?type=w140\" src=\"https://imgnews.pstatic.net/image/origin/413/2024/09/27/184293.jpg?type=w140\" width=\"140\"/>\n",
       " <span class=\"mask\"></span>\n",
       " </a>\n",
       " <div class=\"text\">\n",
       " <a class=\"title\" href=\"https://m.sports.naver.com/wfootball/article/413/0000184293\" onclick=\"clickcr(this, 'nwl.title', '', '', event);\"><span>\"재계약? 대화 없었다\" 손흥민→토트넘 압박한 포스텍 \"SON 계속 머물기를 바란다\"</span></a>\n",
       " <p class=\"desc\">사진 = 게티이미지, 라이브스코어엔제 포스테코글루 감독이 손흥민의 재계약에 대해 입을 열었다.토트넘 훗스퍼는 30일 오전 0시 30분(이하 한국시간) 영국 ...</p>\n",
       " <div class=\"source\">\n",
       " <span class=\"press\">인터풋볼</span>\n",
       " <span class=\"time\"><span class=\"bar\"></span>2024.09.27 22:47</span>\n",
       " </div>\n",
       " </div>\n",
       " </li>,\n",
       " <li>\n",
       " <a class=\"thmb\" href=\"https://m.sports.naver.com/wfootball/article/311/0001776365\" onclick=\"clickcr(this, 'nwl.image', '', '', event);\">\n",
       " <img alt='\"김민재? 패스 안 돼! 볼 간수도 떨어지는 수비수\"…키커가 이런 폭언까지' class=\"lazyLoadImage\" lazy-src=\"https://imgnews.pstatic.net/image/origin/311/2024/09/27/1776365.jpg?type=w140\" src=\"https://imgnews.pstatic.net/image/origin/311/2024/09/27/1776365.jpg?type=w140\" width=\"140\"/>\n",
       " <span class=\"mask\"></span>\n",
       " </a>\n",
       " <div class=\"text\">\n",
       " <a class=\"title\" href=\"https://m.sports.naver.com/wfootball/article/311/0001776365\" onclick=\"clickcr(this, 'nwl.title', '', '', event);\"><span>\"김민재? 패스 안 돼! 볼 간수도 떨어지는 수비수\"…키커가 이런 폭언까지</span></a>\n",
       " <p class=\"desc\">'철기둥' 김민재가 이탈리아 세리에A 나폴리를 33년 만에 정상으로 이끈 2022-2023시즌 '월드클래스' 시절로 돌아왔다는 극찬을 받는 가운데 독일 최고...</p>\n",
       " <div class=\"source\">\n",
       " <span class=\"press\">엑스포츠뉴스</span>\n",
       " <span class=\"time\"><span class=\"bar\"></span>2024.09.27 22:44</span>\n",
       " </div>\n",
       " </div>\n",
       " </li>,\n",
       " <li>\n",
       " <a class=\"thmb\" href=\"https://m.sports.naver.com/wfootball/article/139/0002210962\" onclick=\"clickcr(this, 'nwl.image', '', '', event);\">\n",
       " <img alt=\"바르셀로나, 결국 결단 내렸다! '슬개건 부상' 주전 GK 장기 후계자로 포르투갈 국대 GK 낙점...내년 여름 영입 시도\" class=\"lazyLoadImage\" lazy-src=\"https://imgnews.pstatic.net/image/origin/139/2024/09/27/2210962.jpg?type=w140\" src=\"https://imgnews.pstatic.net/image/origin/139/2024/09/27/2210962.jpg?type=w140\" width=\"140\"/>\n",
       " <span class=\"mask\"></span>\n",
       " </a>\n",
       " <div class=\"text\">\n",
       " <a class=\"title\" href=\"https://m.sports.naver.com/wfootball/article/139/0002210962\" onclick=\"clickcr(this, 'nwl.title', '', '', event);\"><span>바르셀로나, 결국 결단 내렸다! '슬개건 부상' 주전 GK 장기 후계자로 포르투갈 국대 GK 낙점...내년 여름 영입 시도</span></a>\n",
       " <p class=\"desc\">[스포탈코리아] 이성민 기자= FC 바르셀로나가 장기 부상을 당한 마크 안드레 테어 슈테겐의 장기 후계자를 찾았다.영국 매체 ‘90MIN’은 27일(한국시간...</p>\n",
       " <div class=\"source\">\n",
       " <span class=\"press\">스포탈코리아</span>\n",
       " <span class=\"time\"><span class=\"bar\"></span>2024.09.27 22:41</span>\n",
       " </div>\n",
       " </div>\n",
       " </li>,\n",
       " <li>\n",
       " <a class=\"thmb\" href=\"https://m.sports.naver.com/wfootball/article/411/0000052769\" onclick=\"clickcr(this, 'nwl.image', '', '', event);\">\n",
       " <img alt=\"'맨시티 초비상' 로드리 시즌 아웃 우려가 현실로…펩 감독 &quot;로드리의 이번 시즌은 끝났어&quot;\" class=\"lazyLoadImage\" lazy-src=\"https://imgnews.pstatic.net/image/origin/411/2024/09/27/52769.jpg?type=w140\" src=\"https://imgnews.pstatic.net/image/origin/411/2024/09/27/52769.jpg?type=w140\" width=\"140\"/>\n",
       " <span class=\"mask\"></span>\n",
       " </a>\n",
       " <div class=\"text\">\n",
       " <a class=\"title\" href=\"https://m.sports.naver.com/wfootball/article/411/0000052769\" onclick=\"clickcr(this, 'nwl.title', '', '', event);\"><span>'맨시티 초비상' 로드리 시즌 아웃 우려가 현실로…펩 감독 \"로드리의 이번 시즌은 끝났어\"</span></a>\n",
       " <p class=\"desc\">사진=게티 이미지사진=게티 이미지[포포투=박진우]맨체스터 시티가 우려하던 지점이 결국 현실로 다가왔다. 맨시티는 로드리 없이 이번 시즌을 치러야 한다.유럽 ...</p>\n",
       " <div class=\"source\">\n",
       " <span class=\"press\">포포투</span>\n",
       " <span class=\"time\"><span class=\"bar\"></span>2024.09.27 22:40</span>\n",
       " </div>\n",
       " </div>\n",
       " </li>,\n",
       " <li>\n",
       " <a class=\"thmb\" href=\"https://m.sports.naver.com/wfootball/article/109/0005164215\" onclick=\"clickcr(this, 'nwl.image', '', '', event);\">\n",
       " <img alt=\"토트넘, '부상' 손흥민 상황 업데이트...&quot;훈련 참여하고자 해, 맨유 원정 전까지 계속 확인할 것&quot;\" class=\"lazyLoadImage\" lazy-src=\"https://imgnews.pstatic.net/image/origin/109/2024/09/27/5164215.jpg?type=w140\" src=\"https://imgnews.pstatic.net/image/origin/109/2024/09/27/5164215.jpg?type=w140\" width=\"140\"/>\n",
       " <span class=\"mask\"></span>\n",
       " </a>\n",
       " <div class=\"text\">\n",
       " <a class=\"title\" href=\"https://m.sports.naver.com/wfootball/article/109/0005164215\" onclick=\"clickcr(this, 'nwl.title', '', '', event);\"><span>토트넘, '부상' 손흥민 상황 업데이트...\"훈련 참여하고자 해, 맨유 원정 전까지 계속 확인할 것\"</span></a>\n",
       " <p class=\"desc\">[사진] ⓒGettyimages(무단전재 및 재배포 금지)[OSEN=정승우 기자] \"훈련을 하고 싶어하니 일단 훈련을 통해 지켜봐야 한다.\"토트넘 홋스퍼는 ...</p>\n",
       " <div class=\"source\">\n",
       " <span class=\"press\">OSEN</span>\n",
       " <span class=\"time\"><span class=\"bar\"></span>2024.09.27 22:32</span>\n",
       " </div>\n",
       " </div>\n",
       " </li>,\n",
       " <li>\n",
       " <a class=\"thmb\" href=\"https://m.sports.naver.com/wfootball/article/413/0000184292\" onclick=\"clickcr(this, 'nwl.image', '', '', event);\">\n",
       " <img alt='솔샤르 맨유 복귀? 웃기는 소리! \"텐 하흐, 전폭적 지지 받고 있어\" 로마노 컨펌' class=\"lazyLoadImage\" lazy-src=\"https://imgnews.pstatic.net/image/origin/413/2024/09/27/184292.jpg?type=w140\" src=\"https://imgnews.pstatic.net/image/origin/413/2024/09/27/184292.jpg?type=w140\" width=\"140\"/>\n",
       " <span class=\"mask\"></span>\n",
       " </a>\n",
       " <div class=\"text\">\n",
       " <a class=\"title\" href=\"https://m.sports.naver.com/wfootball/article/413/0000184292\" onclick=\"clickcr(this, 'nwl.title', '', '', event);\"><span>솔샤르 맨유 복귀? 웃기는 소리! \"텐 하흐, 전폭적 지지 받고 있어\" 로마노 컨펌</span></a>\n",
       " <p class=\"desc\">사진 = 인터풋볼 DB유럽 이적시장 전문가 파브리시오 로마노 기자는 에릭 텐 하흐 감독 경질은 사실무근이라고 말했다.맨체스터 유나이티드는 26일 오전 4시(...</p>\n",
       " <div class=\"source\">\n",
       " <span class=\"press\">인터풋볼</span>\n",
       " <span class=\"time\"><span class=\"bar\"></span>2024.09.27 22:29</span>\n",
       " </div>\n",
       " </div>\n",
       " </li>,\n",
       " <li>\n",
       " <a class=\"thmb\" href=\"https://m.sports.naver.com/wfootball/article/144/0000991205\" onclick=\"clickcr(this, 'nwl.image', '', '', event);\">\n",
       " <img alt=\"드디어! 이강인 PSG 주전 올라서나? 렌전도 선발 출격 전망→이번엔 중원 아닌 ‘왼쪽 윙어’ 기용 예상\" class=\"lazyLoadImage\" lazy-src=\"https://imgnews.pstatic.net/image/origin/144/2024/09/27/991205.jpg?type=w140\" src=\"https://imgnews.pstatic.net/image/origin/144/2024/09/27/991205.jpg?type=w140\" width=\"140\"/>\n",
       " <span class=\"mask\"></span>\n",
       " </a>\n",
       " <div class=\"text\">\n",
       " <a class=\"title\" href=\"https://m.sports.naver.com/wfootball/article/144/0000991205\" onclick=\"clickcr(this, 'nwl.title', '', '', event);\"><span>드디어! 이강인 PSG 주전 올라서나? 렌전도 선발 출격 전망→이번엔 중원 아닌 ‘왼쪽 윙어’ 기용 예상</span></a>\n",
       " <p class=\"desc\">이강인. Youth Scout1ng이강인(23)이 드디어 파리 생제르맹(이하 PSG)에서 주전으로 올라서는 것일까. 리그 3경기 연속 중원 미드필더로 선발 ...</p>\n",
       " <div class=\"source\">\n",
       " <span class=\"press\">스포츠경향</span>\n",
       " <span class=\"time\"><span class=\"bar\"></span>2024.09.27 22:26</span>\n",
       " </div>\n",
       " </div>\n",
       " </li>,\n",
       " <li>\n",
       " <a class=\"thmb\" href=\"https://m.sports.naver.com/wfootball/article/411/0000052768\" onclick=\"clickcr(this, 'nwl.image', '', '', event);\">\n",
       " <img alt=\"'살라 후계자' 아닌, 뉴캐슬 '장기 프로젝트' 택했다…2030년까지 재계약 '유력'\" class=\"lazyLoadImage\" lazy-src=\"https://imgnews.pstatic.net/image/origin/411/2024/09/27/52768.jpg?type=w140\" src=\"https://imgnews.pstatic.net/image/origin/411/2024/09/27/52768.jpg?type=w140\" width=\"140\"/>\n",
       " <span class=\"mask\"></span>\n",
       " </a>\n",
       " <div class=\"text\">\n",
       " <a class=\"title\" href=\"https://m.sports.naver.com/wfootball/article/411/0000052768\" onclick=\"clickcr(this, 'nwl.title', '', '', event);\"><span>'살라 후계자' 아닌, 뉴캐슬 '장기 프로젝트' 택했다…2030년까지 재계약 '유력'</span></a>\n",
       " <p class=\"desc\">사진=게티 이미지사진=게티 이미지[포포투=박진우]앤서니 고든은 리버풀의 모하메드 살라 후계자가 되는 길을 외면했다. 그는 뉴캐슬 유나이티드의 '장기 프로젝트...</p>\n",
       " <div class=\"source\">\n",
       " <span class=\"press\">포포투</span>\n",
       " <span class=\"time\"><span class=\"bar\"></span>2024.09.27 22:20</span>\n",
       " </div>\n",
       " </div>\n",
       " </li>,\n",
       " <li>\n",
       " <a class=\"thmb\" href=\"https://m.sports.naver.com/wfootball/article/477/0000514048\" onclick=\"clickcr(this, 'nwl.image', '', '', event);\">\n",
       " <img alt=\"'억지 한일전 만드네' 김민재, 패스 성공률 92% 찍었는데…키커 &quot;패스 못 해, 히로키 주전 써야&quot;\" class=\"lazyLoadImage\" lazy-src=\"https://imgnews.pstatic.net/image/origin/477/2024/09/27/514048.jpg?type=w140\" src=\"https://imgnews.pstatic.net/image/origin/477/2024/09/27/514048.jpg?type=w140\" width=\"140\"/>\n",
       " <span class=\"mask\"></span>\n",
       " </a>\n",
       " <div class=\"text\">\n",
       " <a class=\"title\" href=\"https://m.sports.naver.com/wfootball/article/477/0000514048\" onclick=\"clickcr(this, 'nwl.title', '', '', event);\"><span>'억지 한일전 만드네' 김민재, 패스 성공률 92% 찍었는데…키커 \"패스 못 해, 히로키 주전 써야\"</span></a>\n",
       " <p class=\"desc\">▲ 다이어로 안 되니 히로키를 내세운다. 독일 언론 키커가 김민재를 선발 라인업에서 내리라고 또 압박하기 시작했다. 지난 시즌 다이어 주전 기용을 주장하며 ...</p>\n",
       " <div class=\"source\">\n",
       " <span class=\"press\">스포티비뉴스</span>\n",
       " <span class=\"time\"><span class=\"bar\"></span>2024.09.27 22:12</span>\n",
       " </div>\n",
       " </div>\n",
       " </li>,\n",
       " <li>\n",
       " <a class=\"thmb\" href=\"https://m.sports.naver.com/wfootball/article/413/0000184291\" onclick=\"clickcr(this, 'nwl.image', '', '', event);\">\n",
       " <img alt='천만다행! 손흥민, 큰 부상 아니다... \"SON 훈련 참여 원한다, 나쁘지 않아\" 포스텍 확인' class=\"lazyLoadImage\" lazy-src=\"https://imgnews.pstatic.net/image/origin/413/2024/09/27/184291.jpg?type=w140\" src=\"https://imgnews.pstatic.net/image/origin/413/2024/09/27/184291.jpg?type=w140\" width=\"140\"/>\n",
       " <span class=\"mask\"></span>\n",
       " </a>\n",
       " <div class=\"text\">\n",
       " <a class=\"title\" href=\"https://m.sports.naver.com/wfootball/article/413/0000184291\" onclick=\"clickcr(this, 'nwl.title', '', '', event);\"><span>천만다행! 손흥민, 큰 부상 아니다... \"SON 훈련 참여 원한다, 나쁘지 않아\" 포스텍 확인</span></a>\n",
       " <p class=\"desc\">사진=게티 이미지손흥민이 큰 부상은 피했다.토트넘 훗스퍼는 27일 오전 4시 35분(이하 한국시간) 영국 런던에 위치한 토트넘 훗스퍼 스타디움에서 열린 20...</p>\n",
       " <div class=\"source\">\n",
       " <span class=\"press\">인터풋볼</span>\n",
       " <span class=\"time\"><span class=\"bar\"></span>2024.09.27 22:04</span>\n",
       " </div>\n",
       " </div>\n",
       " </li>]"
      ]
     },
     "execution_count": 31,
     "metadata": {},
     "output_type": "execute_result"
    }
   ],
   "source": [
    "# 정규표현식 라이브러리\n",
    "import re\n",
    "\n",
    "# BeautifulSoup으로 뉴스 리스트 영역 설정\n",
    "news_section = soup.find('div', re.compile('news_list'))\n",
    "\n",
    "# 영역 내에서 뉴스 리스트 불러오기\n",
    "news_tag_list = news_section.find_all('li')\n",
    "news_tag_list"
   ]
  },
  {
   "cell_type": "code",
   "execution_count": 32,
   "metadata": {
    "ExecuteTime": {
     "end_time": "2024-09-27T15:18:46.040651Z",
     "start_time": "2024-09-27T15:18:46.031679Z"
    },
    "id": "43Vh0zc3mBkm"
   },
   "outputs": [
    {
     "data": {
      "text/plain": [
       "['\\'맨유 팬들 서운하다\\' 데뷔골 터뜨린 맥토미니, \"나폴리 팬들이 세계 최고\"',\n",
       " '\\'선발 유력\\' 이강인의 달라진 위상, \"PSG 대표하는 스타될 수 있어\" 현지 매체의 \\'극찬\\'',\n",
       " \"17살에 주급 5300만원…'18G 32골' U-18 PL 득점왕, 아스널 NO 맨유행 'Here we go'\",\n",
       " '그동안 후보였던 이유가 있었다! 전반 7분 만에 어이없는 반칙 → 다이렉트 퇴장...英 매체 \"끔찍한 결정이었다\" 혹평',\n",
       " '로드리 \\'시즌 OUT\\' 확정!…과르디올라 \"십자인대+반월판 수술 진행, 다음 시즌에 돌아올 것\" [오피셜]',\n",
       " '\"비참하게 실패한\" 첼시 \\'1000억\\' 사나이, 탈출 원한다... 계약 7년 남았는데?',\n",
       " '\\'히로키에 밀린다고?\\' 김민재, 증명의 기회 왔다…\"레버쿠젠 상대로 안정된 실력 증명할 것\"',\n",
       " '손흥민 천만다행, 허벅지 붙잡았어도 부상 피했다…\"훈련 참여 원해, 심하지 않은 듯\"',\n",
       " \"리그 우승 도전에 치명적...'승리 요정' 로드리, 시즌아웃...전방십자인대-반월판 수술 [공식발표]\",\n",
       " '\"너희들은 그래서 절대 우승하지 못해!\"…\\'독설가\\'의 비판, \"아스널, 작은 클럽의 작은 사고방식\"',\n",
       " '\"재계약? 대화 없었다\" 손흥민→토트넘 압박한 포스텍 \"SON 계속 머물기를 바란다\"',\n",
       " '\"김민재? 패스 안 돼! 볼 간수도 떨어지는 수비수\"…키커가 이런 폭언까지',\n",
       " \"바르셀로나, 결국 결단 내렸다! '슬개건 부상' 주전 GK 장기 후계자로 포르투갈 국대 GK 낙점...내년 여름 영입 시도\",\n",
       " '\\'맨시티 초비상\\' 로드리 시즌 아웃 우려가 현실로…펩 감독 \"로드리의 이번 시즌은 끝났어\"',\n",
       " '토트넘, \\'부상\\' 손흥민 상황 업데이트...\"훈련 참여하고자 해, 맨유 원정 전까지 계속 확인할 것\"',\n",
       " '솔샤르 맨유 복귀? 웃기는 소리! \"텐 하흐, 전폭적 지지 받고 있어\" 로마노 컨펌',\n",
       " '드디어! 이강인 PSG 주전 올라서나? 렌전도 선발 출격 전망→이번엔 중원 아닌 ‘왼쪽 윙어’ 기용 예상',\n",
       " \"'살라 후계자' 아닌, 뉴캐슬 '장기 프로젝트' 택했다…2030년까지 재계약 '유력'\",\n",
       " '\\'억지 한일전 만드네\\' 김민재, 패스 성공률 92% 찍었는데…키커 \"패스 못 해, 히로키 주전 써야\"',\n",
       " '천만다행! 손흥민, 큰 부상 아니다... \"SON 훈련 참여 원한다, 나쁘지 않아\" 포스텍 확인']"
      ]
     },
     "execution_count": 32,
     "metadata": {},
     "output_type": "execute_result"
    }
   ],
   "source": [
    "# Map 함수를 활용해 뉴스 제목 리스트 만들기\n",
    "list(map(lambda x : x.find('a', re.compile('title')).text, news_tag_list))"
   ]
  },
  {
   "cell_type": "code",
   "execution_count": 13,
   "metadata": {
    "ExecuteTime": {
     "end_time": "2024-09-27T15:16:15.035055Z",
     "start_time": "2024-09-27T15:16:15.033359Z"
    },
    "id": "DNPsUWQkoAUO"
   },
   "outputs": [
    {
     "data": {
      "text/plain": [
       "['https://m.sports.naver.com/wfootball/article/413/0000184297',\n",
       " 'https://m.sports.naver.com/wfootball/article/411/0000052771',\n",
       " 'https://m.sports.naver.com/wfootball/article/311/0001776375',\n",
       " 'https://m.sports.naver.com/wfootball/article/139/0002210965',\n",
       " 'https://m.sports.naver.com/wfootball/article/311/0001776373',\n",
       " 'https://m.sports.naver.com/wfootball/article/413/0000184296',\n",
       " 'https://m.sports.naver.com/wfootball/article/411/0000052770',\n",
       " 'https://m.sports.naver.com/wfootball/article/477/0000514052',\n",
       " 'https://m.sports.naver.com/wfootball/article/109/0005164238',\n",
       " 'https://m.sports.naver.com/wfootball/article/117/0003874891',\n",
       " 'https://m.sports.naver.com/wfootball/article/413/0000184293',\n",
       " 'https://m.sports.naver.com/wfootball/article/311/0001776365',\n",
       " 'https://m.sports.naver.com/wfootball/article/139/0002210962',\n",
       " 'https://m.sports.naver.com/wfootball/article/411/0000052769',\n",
       " 'https://m.sports.naver.com/wfootball/article/109/0005164215',\n",
       " 'https://m.sports.naver.com/wfootball/article/413/0000184292',\n",
       " 'https://m.sports.naver.com/wfootball/article/144/0000991205',\n",
       " 'https://m.sports.naver.com/wfootball/article/411/0000052768',\n",
       " 'https://m.sports.naver.com/wfootball/article/477/0000514048',\n",
       " 'https://m.sports.naver.com/wfootball/article/413/0000184291']"
      ]
     },
     "execution_count": 13,
     "metadata": {},
     "output_type": "execute_result"
    }
   ],
   "source": [
    "# Map 함수를 활용해 뉴스 속성 리스트 만들기 - 링크들만 나열\n",
    "# 크롤링 시 해당되는 링크들을 나열해 맵으로 묶어 사용하는 경우가 많다\n",
    "list(map(lambda x : x.find('a', re.compile('thmb')).get('href'), news_tag_list))\n"
   ]
  },
  {
   "cell_type": "code",
   "execution_count": 33,
   "metadata": {
    "ExecuteTime": {
     "end_time": "2024-09-27T15:20:36.869610Z",
     "start_time": "2024-09-27T15:20:36.862407Z"
    }
   },
   "outputs": [
    {
     "data": {
      "text/plain": [
       "['/wfootball/article/413/0000184297',\n",
       " '/wfootball/article/411/0000052771',\n",
       " '/wfootball/article/311/0001776375',\n",
       " '/wfootball/article/139/0002210965',\n",
       " '/wfootball/article/311/0001776373',\n",
       " '/wfootball/article/413/0000184296',\n",
       " '/wfootball/article/411/0000052770',\n",
       " '/wfootball/article/477/0000514052',\n",
       " '/wfootball/article/109/0005164238',\n",
       " '/wfootball/article/117/0003874891',\n",
       " '/wfootball/article/413/0000184293',\n",
       " '/wfootball/article/311/0001776365',\n",
       " '/wfootball/article/139/0002210962',\n",
       " '/wfootball/article/411/0000052769',\n",
       " '/wfootball/article/109/0005164215',\n",
       " '/wfootball/article/413/0000184292',\n",
       " '/wfootball/article/144/0000991205',\n",
       " '/wfootball/article/411/0000052768',\n",
       " '/wfootball/article/477/0000514048',\n",
       " '/wfootball/article/413/0000184291']"
      ]
     },
     "execution_count": 33,
     "metadata": {},
     "output_type": "execute_result"
    }
   ],
   "source": [
    "# Map 함수를 활용해 중복되는 부분을 제외한 뉴스 링크 만들기\n",
    "list(map(lambda x : x.find('a', re.compile('thmb')).get('href')[len('https://m.sports.naver.com'):], news_tag_list))"
   ]
  },
  {
   "cell_type": "code",
   "execution_count": 15,
   "metadata": {
    "ExecuteTime": {
     "end_time": "2024-09-27T15:16:15.110389Z",
     "start_time": "2024-09-27T15:16:15.037810Z"
    },
    "id": "TyGDEyq7nd8E"
   },
   "outputs": [],
   "source": [
    "# Selenium의 기능을 활용해 Xpath로 요소를 찾고, 버튼 클릭하기\n",
    "\n",
    "epl_button = driver.find_element(By.XPATH, '//*[@id=\"_sectionList\"]/li[2]/a/span')\n",
    "epl_button.click()"
   ]
  },
  {
   "cell_type": "code",
   "execution_count": 16,
   "metadata": {
    "ExecuteTime": {
     "end_time": "2024-09-27T15:16:35.452537Z",
     "start_time": "2024-09-27T15:16:15.112008Z"
    },
    "id": "ZGdtfd7AY5cK"
   },
   "outputs": [
    {
     "name": "stdout",
     "output_type": "stream",
     "text": [
      "1회 클릭했습니다.\n",
      "2회 클릭했습니다.\n",
      "3회 클릭했습니다.\n",
      "4회 클릭했습니다.\n",
      "5회 클릭했습니다.\n",
      "6회 클릭했습니다.\n",
      "7회 클릭했습니다.\n",
      "8회 클릭했습니다.\n",
      "9회 클릭했습니다.\n",
      "10회 클릭했습니다.\n"
     ]
    }
   ],
   "source": [
    "# Python 응용: 반복문을 활용해 버튼 클릭하기\n",
    "import time\n",
    "\n",
    "n = 0\n",
    "for i in range(10):\n",
    "    epl_button.click()\n",
    "    \n",
    "    time.sleep(2) # 웹을 동작시킨 후, 정보를 불러올 수 있도록 시간을 기다려야 한다. \n",
    "    n += 1\n",
    "    print(f'{n}회 클릭했습니다.')"
   ]
  },
  {
   "cell_type": "code",
   "execution_count": 34,
   "metadata": {
    "ExecuteTime": {
     "end_time": "2024-09-27T15:20:41.346802Z",
     "start_time": "2024-09-27T15:20:41.296787Z"
    },
    "id": "0q77PWWpZK7X"
   },
   "outputs": [],
   "source": [
    "# 다시 소스 코드 불러오기\n",
    "html = driver.page_source # 웹을 동작시킨 뒤에는 다시 소스 코드를 불러와야 업데이트된 정보를 반영할 수 있습니다.\n",
    "soup = BeautifulSoup(html, 'html.parser')\n",
    "\n",
    "news_section = soup.find('div', re.compile('news_list'))\n",
    "news_tag_list = news_section.find_all('li')\n",
    "\n",
    "news_title_list = list(map(lambda x: x.find('a', re.compile('title')).get_text(), news_tag_list))\n",
    "news_link_list = list(map(lambda x: x.find('a', re.compile('thmb')).get('href'), news_tag_list))"
   ]
  },
  {
   "cell_type": "code",
   "execution_count": 35,
   "metadata": {
    "ExecuteTime": {
     "end_time": "2024-09-27T15:20:43.141260Z",
     "start_time": "2024-09-27T15:20:43.135038Z"
    },
    "id": "beO1HSW2bBRv"
   },
   "outputs": [
    {
     "name": "stdout",
     "output_type": "stream",
     "text": [
      "뉴스 제목 수: 20, 뉴스 링크 수: 20\n"
     ]
    }
   ],
   "source": [
    "# 수집된 뉴스 개수 확인\n",
    "print(f'뉴스 제목 수: {len(news_title_list)}, 뉴스 링크 수: {len(news_link_list)}')"
   ]
  },
  {
   "cell_type": "code",
   "execution_count": 36,
   "metadata": {
    "ExecuteTime": {
     "end_time": "2024-09-27T15:20:45.141957Z",
     "start_time": "2024-09-27T15:20:45.133056Z"
    },
    "id": "Lgknt2BMa7hc"
   },
   "outputs": [
    {
     "data": {
      "text/plain": [
       "[('\\'맨유 팬들 서운하다\\' 데뷔골 터뜨린 맥토미니, \"나폴리 팬들이 세계 최고\"',\n",
       "  'https://m.sports.naver.com/wfootball/article/413/0000184297'),\n",
       " ('\\'선발 유력\\' 이강인의 달라진 위상, \"PSG 대표하는 스타될 수 있어\" 현지 매체의 \\'극찬\\'',\n",
       "  'https://m.sports.naver.com/wfootball/article/411/0000052771'),\n",
       " (\"17살에 주급 5300만원…'18G 32골' U-18 PL 득점왕, 아스널 NO 맨유행 'Here we go'\",\n",
       "  'https://m.sports.naver.com/wfootball/article/311/0001776375'),\n",
       " ('그동안 후보였던 이유가 있었다! 전반 7분 만에 어이없는 반칙 → 다이렉트 퇴장...英 매체 \"끔찍한 결정이었다\" 혹평',\n",
       "  'https://m.sports.naver.com/wfootball/article/139/0002210965'),\n",
       " ('로드리 \\'시즌 OUT\\' 확정!…과르디올라 \"십자인대+반월판 수술 진행, 다음 시즌에 돌아올 것\" [오피셜]',\n",
       "  'https://m.sports.naver.com/wfootball/article/311/0001776373'),\n",
       " ('\"비참하게 실패한\" 첼시 \\'1000억\\' 사나이, 탈출 원한다... 계약 7년 남았는데?',\n",
       "  'https://m.sports.naver.com/wfootball/article/413/0000184296'),\n",
       " ('\\'히로키에 밀린다고?\\' 김민재, 증명의 기회 왔다…\"레버쿠젠 상대로 안정된 실력 증명할 것\"',\n",
       "  'https://m.sports.naver.com/wfootball/article/411/0000052770'),\n",
       " ('손흥민 천만다행, 허벅지 붙잡았어도 부상 피했다…\"훈련 참여 원해, 심하지 않은 듯\"',\n",
       "  'https://m.sports.naver.com/wfootball/article/477/0000514052'),\n",
       " (\"리그 우승 도전에 치명적...'승리 요정' 로드리, 시즌아웃...전방십자인대-반월판 수술 [공식발표]\",\n",
       "  'https://m.sports.naver.com/wfootball/article/109/0005164238'),\n",
       " ('\"너희들은 그래서 절대 우승하지 못해!\"…\\'독설가\\'의 비판, \"아스널, 작은 클럽의 작은 사고방식\"',\n",
       "  'https://m.sports.naver.com/wfootball/article/117/0003874891'),\n",
       " ('\"재계약? 대화 없었다\" 손흥민→토트넘 압박한 포스텍 \"SON 계속 머물기를 바란다\"',\n",
       "  'https://m.sports.naver.com/wfootball/article/413/0000184293'),\n",
       " ('\"김민재? 패스 안 돼! 볼 간수도 떨어지는 수비수\"…키커가 이런 폭언까지',\n",
       "  'https://m.sports.naver.com/wfootball/article/311/0001776365'),\n",
       " (\"바르셀로나, 결국 결단 내렸다! '슬개건 부상' 주전 GK 장기 후계자로 포르투갈 국대 GK 낙점...내년 여름 영입 시도\",\n",
       "  'https://m.sports.naver.com/wfootball/article/139/0002210962'),\n",
       " ('\\'맨시티 초비상\\' 로드리 시즌 아웃 우려가 현실로…펩 감독 \"로드리의 이번 시즌은 끝났어\"',\n",
       "  'https://m.sports.naver.com/wfootball/article/411/0000052769'),\n",
       " ('토트넘, \\'부상\\' 손흥민 상황 업데이트...\"훈련 참여하고자 해, 맨유 원정 전까지 계속 확인할 것\"',\n",
       "  'https://m.sports.naver.com/wfootball/article/109/0005164215'),\n",
       " ('솔샤르 맨유 복귀? 웃기는 소리! \"텐 하흐, 전폭적 지지 받고 있어\" 로마노 컨펌',\n",
       "  'https://m.sports.naver.com/wfootball/article/413/0000184292'),\n",
       " ('드디어! 이강인 PSG 주전 올라서나? 렌전도 선발 출격 전망→이번엔 중원 아닌 ‘왼쪽 윙어’ 기용 예상',\n",
       "  'https://m.sports.naver.com/wfootball/article/144/0000991205'),\n",
       " (\"'살라 후계자' 아닌, 뉴캐슬 '장기 프로젝트' 택했다…2030년까지 재계약 '유력'\",\n",
       "  'https://m.sports.naver.com/wfootball/article/411/0000052768'),\n",
       " ('\\'억지 한일전 만드네\\' 김민재, 패스 성공률 92% 찍었는데…키커 \"패스 못 해, 히로키 주전 써야\"',\n",
       "  'https://m.sports.naver.com/wfootball/article/477/0000514048'),\n",
       " ('천만다행! 손흥민, 큰 부상 아니다... \"SON 훈련 참여 원한다, 나쁘지 않아\" 포스텍 확인',\n",
       "  'https://m.sports.naver.com/wfootball/article/413/0000184291')]"
      ]
     },
     "execution_count": 36,
     "metadata": {},
     "output_type": "execute_result"
    }
   ],
   "source": [
    "# Zip 함수를 활용해 뉴스 리스트 만들기\n",
    "news_list = list(zip(news_title_list, news_link_list)); news_list"
   ]
  },
  {
   "cell_type": "code",
   "execution_count": 37,
   "metadata": {
    "ExecuteTime": {
     "end_time": "2024-09-27T15:20:51.566047Z",
     "start_time": "2024-09-27T15:20:51.560878Z"
    },
    "id": "E2xE8gDGbePN"
   },
   "outputs": [],
   "source": [
    "# 사용자 정의 함수를 활용해 튜플 형태로 데이터 불러오기\n",
    "\n",
    "def get_news(news_tag):\n",
    "    news_title = news_tag.find('span', re.compile('NewsList_title')).text\n",
    "    news_link = news_tag.find('a', re.compile('NewsList_link')).get('href')\n",
    "    \n",
    "    return news_title, news_link"
   ]
  },
  {
   "cell_type": "code",
   "execution_count": 38,
   "metadata": {
    "ExecuteTime": {
     "end_time": "2024-09-27T15:20:53.321538Z",
     "start_time": "2024-09-27T15:20:53.311562Z"
    },
    "id": "K7ZUPuxZb4Oy"
   },
   "outputs": [
    {
     "data": {
      "text/html": [
       "<div>\n",
       "<style scoped>\n",
       "    .dataframe tbody tr th:only-of-type {\n",
       "        vertical-align: middle;\n",
       "    }\n",
       "\n",
       "    .dataframe tbody tr th {\n",
       "        vertical-align: top;\n",
       "    }\n",
       "\n",
       "    .dataframe thead th {\n",
       "        text-align: right;\n",
       "    }\n",
       "</style>\n",
       "<table border=\"1\" class=\"dataframe\">\n",
       "  <thead>\n",
       "    <tr style=\"text-align: right;\">\n",
       "      <th></th>\n",
       "      <th>title</th>\n",
       "      <th>url</th>\n",
       "    </tr>\n",
       "  </thead>\n",
       "  <tbody>\n",
       "    <tr>\n",
       "      <th>0</th>\n",
       "      <td>'맨유 팬들 서운하다' 데뷔골 터뜨린 맥토미니, \"나폴리 팬들이 세계 최고\"</td>\n",
       "      <td>https://m.sports.naver.com/wfootball/article/4...</td>\n",
       "    </tr>\n",
       "    <tr>\n",
       "      <th>1</th>\n",
       "      <td>'선발 유력' 이강인의 달라진 위상, \"PSG 대표하는 스타될 수 있어\" 현지 매체...</td>\n",
       "      <td>https://m.sports.naver.com/wfootball/article/4...</td>\n",
       "    </tr>\n",
       "    <tr>\n",
       "      <th>2</th>\n",
       "      <td>17살에 주급 5300만원…'18G 32골' U-18 PL 득점왕, 아스널 NO 맨...</td>\n",
       "      <td>https://m.sports.naver.com/wfootball/article/3...</td>\n",
       "    </tr>\n",
       "    <tr>\n",
       "      <th>3</th>\n",
       "      <td>그동안 후보였던 이유가 있었다! 전반 7분 만에 어이없는 반칙 → 다이렉트 퇴장.....</td>\n",
       "      <td>https://m.sports.naver.com/wfootball/article/1...</td>\n",
       "    </tr>\n",
       "    <tr>\n",
       "      <th>4</th>\n",
       "      <td>로드리 '시즌 OUT' 확정!…과르디올라 \"십자인대+반월판 수술 진행, 다음 시즌에...</td>\n",
       "      <td>https://m.sports.naver.com/wfootball/article/3...</td>\n",
       "    </tr>\n",
       "    <tr>\n",
       "      <th>5</th>\n",
       "      <td>\"비참하게 실패한\" 첼시 '1000억' 사나이, 탈출 원한다... 계약 7년 남았는데?</td>\n",
       "      <td>https://m.sports.naver.com/wfootball/article/4...</td>\n",
       "    </tr>\n",
       "    <tr>\n",
       "      <th>6</th>\n",
       "      <td>'히로키에 밀린다고?' 김민재, 증명의 기회 왔다…\"레버쿠젠 상대로 안정된 실력 증...</td>\n",
       "      <td>https://m.sports.naver.com/wfootball/article/4...</td>\n",
       "    </tr>\n",
       "    <tr>\n",
       "      <th>7</th>\n",
       "      <td>손흥민 천만다행, 허벅지 붙잡았어도 부상 피했다…\"훈련 참여 원해, 심하지 않은 듯\"</td>\n",
       "      <td>https://m.sports.naver.com/wfootball/article/4...</td>\n",
       "    </tr>\n",
       "    <tr>\n",
       "      <th>8</th>\n",
       "      <td>리그 우승 도전에 치명적...'승리 요정' 로드리, 시즌아웃...전방십자인대-반월판...</td>\n",
       "      <td>https://m.sports.naver.com/wfootball/article/1...</td>\n",
       "    </tr>\n",
       "    <tr>\n",
       "      <th>9</th>\n",
       "      <td>\"너희들은 그래서 절대 우승하지 못해!\"…'독설가'의 비판, \"아스널, 작은 클럽의...</td>\n",
       "      <td>https://m.sports.naver.com/wfootball/article/1...</td>\n",
       "    </tr>\n",
       "    <tr>\n",
       "      <th>10</th>\n",
       "      <td>\"재계약? 대화 없었다\" 손흥민→토트넘 압박한 포스텍 \"SON 계속 머물기를 바란다\"</td>\n",
       "      <td>https://m.sports.naver.com/wfootball/article/4...</td>\n",
       "    </tr>\n",
       "    <tr>\n",
       "      <th>11</th>\n",
       "      <td>\"김민재? 패스 안 돼! 볼 간수도 떨어지는 수비수\"…키커가 이런 폭언까지</td>\n",
       "      <td>https://m.sports.naver.com/wfootball/article/3...</td>\n",
       "    </tr>\n",
       "    <tr>\n",
       "      <th>12</th>\n",
       "      <td>바르셀로나, 결국 결단 내렸다! '슬개건 부상' 주전 GK 장기 후계자로 포르투갈 ...</td>\n",
       "      <td>https://m.sports.naver.com/wfootball/article/1...</td>\n",
       "    </tr>\n",
       "    <tr>\n",
       "      <th>13</th>\n",
       "      <td>'맨시티 초비상' 로드리 시즌 아웃 우려가 현실로…펩 감독 \"로드리의 이번 시즌은 ...</td>\n",
       "      <td>https://m.sports.naver.com/wfootball/article/4...</td>\n",
       "    </tr>\n",
       "    <tr>\n",
       "      <th>14</th>\n",
       "      <td>토트넘, '부상' 손흥민 상황 업데이트...\"훈련 참여하고자 해, 맨유 원정 전까지...</td>\n",
       "      <td>https://m.sports.naver.com/wfootball/article/1...</td>\n",
       "    </tr>\n",
       "    <tr>\n",
       "      <th>15</th>\n",
       "      <td>솔샤르 맨유 복귀? 웃기는 소리! \"텐 하흐, 전폭적 지지 받고 있어\" 로마노 컨펌</td>\n",
       "      <td>https://m.sports.naver.com/wfootball/article/4...</td>\n",
       "    </tr>\n",
       "    <tr>\n",
       "      <th>16</th>\n",
       "      <td>드디어! 이강인 PSG 주전 올라서나? 렌전도 선발 출격 전망→이번엔 중원 아닌 ‘...</td>\n",
       "      <td>https://m.sports.naver.com/wfootball/article/1...</td>\n",
       "    </tr>\n",
       "    <tr>\n",
       "      <th>17</th>\n",
       "      <td>'살라 후계자' 아닌, 뉴캐슬 '장기 프로젝트' 택했다…2030년까지 재계약 '유력'</td>\n",
       "      <td>https://m.sports.naver.com/wfootball/article/4...</td>\n",
       "    </tr>\n",
       "    <tr>\n",
       "      <th>18</th>\n",
       "      <td>'억지 한일전 만드네' 김민재, 패스 성공률 92% 찍었는데…키커 \"패스 못 해, ...</td>\n",
       "      <td>https://m.sports.naver.com/wfootball/article/4...</td>\n",
       "    </tr>\n",
       "    <tr>\n",
       "      <th>19</th>\n",
       "      <td>천만다행! 손흥민, 큰 부상 아니다... \"SON 훈련 참여 원한다, 나쁘지 않아\"...</td>\n",
       "      <td>https://m.sports.naver.com/wfootball/article/4...</td>\n",
       "    </tr>\n",
       "  </tbody>\n",
       "</table>\n",
       "</div>"
      ],
      "text/plain": [
       "                                                title  \\\n",
       "0          '맨유 팬들 서운하다' 데뷔골 터뜨린 맥토미니, \"나폴리 팬들이 세계 최고\"   \n",
       "1   '선발 유력' 이강인의 달라진 위상, \"PSG 대표하는 스타될 수 있어\" 현지 매체...   \n",
       "2   17살에 주급 5300만원…'18G 32골' U-18 PL 득점왕, 아스널 NO 맨...   \n",
       "3   그동안 후보였던 이유가 있었다! 전반 7분 만에 어이없는 반칙 → 다이렉트 퇴장.....   \n",
       "4   로드리 '시즌 OUT' 확정!…과르디올라 \"십자인대+반월판 수술 진행, 다음 시즌에...   \n",
       "5    \"비참하게 실패한\" 첼시 '1000억' 사나이, 탈출 원한다... 계약 7년 남았는데?   \n",
       "6   '히로키에 밀린다고?' 김민재, 증명의 기회 왔다…\"레버쿠젠 상대로 안정된 실력 증...   \n",
       "7     손흥민 천만다행, 허벅지 붙잡았어도 부상 피했다…\"훈련 참여 원해, 심하지 않은 듯\"   \n",
       "8   리그 우승 도전에 치명적...'승리 요정' 로드리, 시즌아웃...전방십자인대-반월판...   \n",
       "9   \"너희들은 그래서 절대 우승하지 못해!\"…'독설가'의 비판, \"아스널, 작은 클럽의...   \n",
       "10    \"재계약? 대화 없었다\" 손흥민→토트넘 압박한 포스텍 \"SON 계속 머물기를 바란다\"   \n",
       "11          \"김민재? 패스 안 돼! 볼 간수도 떨어지는 수비수\"…키커가 이런 폭언까지   \n",
       "12  바르셀로나, 결국 결단 내렸다! '슬개건 부상' 주전 GK 장기 후계자로 포르투갈 ...   \n",
       "13  '맨시티 초비상' 로드리 시즌 아웃 우려가 현실로…펩 감독 \"로드리의 이번 시즌은 ...   \n",
       "14  토트넘, '부상' 손흥민 상황 업데이트...\"훈련 참여하고자 해, 맨유 원정 전까지...   \n",
       "15     솔샤르 맨유 복귀? 웃기는 소리! \"텐 하흐, 전폭적 지지 받고 있어\" 로마노 컨펌   \n",
       "16  드디어! 이강인 PSG 주전 올라서나? 렌전도 선발 출격 전망→이번엔 중원 아닌 ‘...   \n",
       "17    '살라 후계자' 아닌, 뉴캐슬 '장기 프로젝트' 택했다…2030년까지 재계약 '유력'   \n",
       "18  '억지 한일전 만드네' 김민재, 패스 성공률 92% 찍었는데…키커 \"패스 못 해, ...   \n",
       "19  천만다행! 손흥민, 큰 부상 아니다... \"SON 훈련 참여 원한다, 나쁘지 않아\"...   \n",
       "\n",
       "                                                  url  \n",
       "0   https://m.sports.naver.com/wfootball/article/4...  \n",
       "1   https://m.sports.naver.com/wfootball/article/4...  \n",
       "2   https://m.sports.naver.com/wfootball/article/3...  \n",
       "3   https://m.sports.naver.com/wfootball/article/1...  \n",
       "4   https://m.sports.naver.com/wfootball/article/3...  \n",
       "5   https://m.sports.naver.com/wfootball/article/4...  \n",
       "6   https://m.sports.naver.com/wfootball/article/4...  \n",
       "7   https://m.sports.naver.com/wfootball/article/4...  \n",
       "8   https://m.sports.naver.com/wfootball/article/1...  \n",
       "9   https://m.sports.naver.com/wfootball/article/1...  \n",
       "10  https://m.sports.naver.com/wfootball/article/4...  \n",
       "11  https://m.sports.naver.com/wfootball/article/3...  \n",
       "12  https://m.sports.naver.com/wfootball/article/1...  \n",
       "13  https://m.sports.naver.com/wfootball/article/4...  \n",
       "14  https://m.sports.naver.com/wfootball/article/1...  \n",
       "15  https://m.sports.naver.com/wfootball/article/4...  \n",
       "16  https://m.sports.naver.com/wfootball/article/1...  \n",
       "17  https://m.sports.naver.com/wfootball/article/4...  \n",
       "18  https://m.sports.naver.com/wfootball/article/4...  \n",
       "19  https://m.sports.naver.com/wfootball/article/4...  "
      ]
     },
     "execution_count": 38,
     "metadata": {},
     "output_type": "execute_result"
    }
   ],
   "source": [
    "# Pandas를 활용해 데이터 프레임 생성하기\n",
    "import pandas as pd\n",
    "\n",
    "df = pd.DataFrame(news_list, columns=['title', 'url'])\n",
    "df"
   ]
  },
  {
   "cell_type": "code",
   "execution_count": 52,
   "metadata": {
    "ExecuteTime": {
     "end_time": "2024-09-27T15:29:27.801439Z",
     "start_time": "2024-09-27T15:29:27.794848Z"
    },
    "id": "ux0yx6qwgh3m"
   },
   "outputs": [
    {
     "data": {
      "text/plain": [
       "Index(['20240920', '20240921', '20240922', '20240923', '20240924', '20240925',\n",
       "       '20240926', '20240927', '20240928'],\n",
       "      dtype='object')"
      ]
     },
     "execution_count": 52,
     "metadata": {},
     "output_type": "execute_result"
    }
   ],
   "source": [
    "# Pandas의 내장 함수를 활용해 날짜 범위 계산하기\n",
    "date_range = pd.date_range('2024-09-20', '2024-09-28').strftime('%Y%m%d')\n",
    "date_range"
   ]
  },
  {
   "cell_type": "code",
   "execution_count": 54,
   "metadata": {
    "ExecuteTime": {
     "end_time": "2024-09-27T15:35:16.464161Z",
     "start_time": "2024-09-27T15:33:25.254346Z"
    },
    "id": "NZYeTGpfhbVg",
    "scrolled": true
   },
   "outputs": [
    {
     "data": {
      "application/vnd.jupyter.widget-view+json": {
       "model_id": "256125403c52469483cccf979a0a230b",
       "version_major": 2,
       "version_minor": 0
      },
      "text/plain": [
       "  0%|          | 0/9 [00:00<?, ?it/s]"
      ]
     },
     "metadata": {},
     "output_type": "display_data"
    },
    {
     "name": "stdout",
     "output_type": "stream",
     "text": [
      "20240920: 1회 클릭했습니다.\n",
      "20240920: 2회 클릭했습니다.\n",
      "20240920: 3회 클릭했습니다.\n",
      "20240920: 4회 클릭했습니다.\n",
      "20240920: 5회 클릭했습니다.\n",
      "20240921: 1회 클릭했습니다.\n",
      "20240921: 2회 클릭했습니다.\n",
      "20240921: 3회 클릭했습니다.\n",
      "20240921: 4회 클릭했습니다.\n",
      "20240921: 5회 클릭했습니다.\n",
      "20240922: 1회 클릭했습니다.\n",
      "20240922: 2회 클릭했습니다.\n",
      "20240922: 3회 클릭했습니다.\n",
      "20240922: 4회 클릭했습니다.\n",
      "20240922: 5회 클릭했습니다.\n",
      "20240923: 1회 클릭했습니다.\n",
      "20240923: 2회 클릭했습니다.\n",
      "20240923: 3회 클릭했습니다.\n",
      "20240923: 4회 클릭했습니다.\n",
      "20240923: 5회 클릭했습니다.\n",
      "20240924: 1회 클릭했습니다.\n",
      "20240924: 2회 클릭했습니다.\n",
      "20240924: 3회 클릭했습니다.\n",
      "20240924: 4회 클릭했습니다.\n",
      "20240924: 5회 클릭했습니다.\n",
      "20240925: 1회 클릭했습니다.\n",
      "20240925: 2회 클릭했습니다.\n",
      "20240925: 3회 클릭했습니다.\n",
      "20240925: 4회 클릭했습니다.\n",
      "20240925: 5회 클릭했습니다.\n",
      "20240926: 1회 클릭했습니다.\n",
      "20240926: 2회 클릭했습니다.\n",
      "20240926: 3회 클릭했습니다.\n",
      "20240926: 4회 클릭했습니다.\n",
      "20240926: 5회 클릭했습니다.\n",
      "20240927: 1회 클릭했습니다.\n",
      "20240927: 2회 클릭했습니다.\n",
      "20240927: 3회 클릭했습니다.\n",
      "20240927: 4회 클릭했습니다.\n",
      "20240927: 5회 클릭했습니다.\n",
      "20240928: 1회 클릭했습니다.\n",
      "20240928: 2회 클릭했습니다.\n",
      "20240928: 3회 클릭했습니다.\n",
      "20240928: 4회 클릭했습니다.\n",
      "20240928: 5회 클릭했습니다.\n"
     ]
    }
   ],
   "source": [
    "# 반복문을 활용해 날짜별로 데이터 수집하기\n",
    "import pandas as pd\n",
    "from tqdm.auto import tqdm\n",
    "\n",
    "total_news_list = []\n",
    "for date in tqdm(date_range):\n",
    "    url = f'https://sports.news.naver.com/wfootball/news/index?isphoto=N&date={date}'\n",
    "    driver.get(url)\n",
    "    time.sleep(2)\n",
    "\n",
    "    news_more_button = driver.find_element(By.XPATH, '//*[@id=\"_sectionList\"]/li[2]/a/span')\n",
    "\n",
    "    n = 0\n",
    "    for i in range(5):\n",
    "        try:\n",
    "            news_more_button.click()\n",
    "            time.sleep(2)\n",
    "            n += 1\n",
    "            print(f'{date}: {n}회 클릭했습니다.')\n",
    "        except:\n",
    "            next\n",
    "\n",
    "    html = driver.page_source\n",
    "    soup = BeautifulSoup(html, 'html.parser')\n",
    "    \n",
    "\n",
    "\n",
    "    news_section = soup.find('div', re.compile('news_list'))\n",
    "    news_tag_list = news_section.find_all('li')\n",
    "\n",
    "    news_title_list = list(map(lambda x: x.find('a', re.compile('title')).get_text(), news_tag_list))\n",
    "    news_link_list = list(map(lambda x: x.find('a', re.compile('thmb')).get('href'), news_tag_list))\n",
    "    \n",
    "    date_list = [date] * len(news_link_list)\n",
    "\n",
    "    daily_news_list = list(zip(news_title_list, news_link_list, date_list))\n",
    "    total_news_list.extend(daily_news_list)"
   ]
  },
  {
   "cell_type": "code",
   "execution_count": 55,
   "metadata": {
    "ExecuteTime": {
     "end_time": "2024-09-27T15:35:19.750707Z",
     "start_time": "2024-09-27T15:35:19.736388Z"
    },
    "id": "CLE0txxgmvL-"
   },
   "outputs": [
    {
     "data": {
      "text/html": [
       "<div>\n",
       "<style scoped>\n",
       "    .dataframe tbody tr th:only-of-type {\n",
       "        vertical-align: middle;\n",
       "    }\n",
       "\n",
       "    .dataframe tbody tr th {\n",
       "        vertical-align: top;\n",
       "    }\n",
       "\n",
       "    .dataframe thead th {\n",
       "        text-align: right;\n",
       "    }\n",
       "</style>\n",
       "<table border=\"1\" class=\"dataframe\">\n",
       "  <thead>\n",
       "    <tr style=\"text-align: right;\">\n",
       "      <th></th>\n",
       "      <th>title</th>\n",
       "      <th>url</th>\n",
       "      <th>date</th>\n",
       "    </tr>\n",
       "  </thead>\n",
       "  <tbody>\n",
       "    <tr>\n",
       "      <th>0</th>\n",
       "      <td>손흥민 EPL 베스트11 선정, 토트넘 대표 선수로 뽑혔다... 홀란·살라 미친 스리톱</td>\n",
       "      <td>https://m.sports.naver.com/wfootball/article/1...</td>\n",
       "      <td>20240920</td>\n",
       "    </tr>\n",
       "    <tr>\n",
       "      <th>1</th>\n",
       "      <td>\"김민재, 콤파니 감독과 호흡 좋다\" 평가에도 '키커'는 여전히 부정적...\"이토가...</td>\n",
       "      <td>https://m.sports.naver.com/wfootball/article/1...</td>\n",
       "      <td>20240920</td>\n",
       "    </tr>\n",
       "    <tr>\n",
       "      <th>2</th>\n",
       "      <td>백승호, 3부 탈출 꿈도 못 꾸나... 감독 사랑 독차지 \"앞으로 몇 년 동안 팀 핵심\"</td>\n",
       "      <td>https://m.sports.naver.com/wfootball/article/4...</td>\n",
       "      <td>20240920</td>\n",
       "    </tr>\n",
       "    <tr>\n",
       "      <th>3</th>\n",
       "      <td>당당했던 태도는 어디에? 태세 전환한 슬롯, \"리버풀에 에이스 3인방 있어 너무 행복해\"</td>\n",
       "      <td>https://m.sports.naver.com/wfootball/article/4...</td>\n",
       "      <td>20240920</td>\n",
       "    </tr>\n",
       "    <tr>\n",
       "      <th>4</th>\n",
       "      <td>'결국 탈났다' 강행군 소화하던 손흥민, 경기 도중 부상 의심 교체 아웃...A매치...</td>\n",
       "      <td>https://m.sports.naver.com/wfootball/article/4...</td>\n",
       "      <td>20240920</td>\n",
       "    </tr>\n",
       "    <tr>\n",
       "      <th>...</th>\n",
       "      <td>...</td>\n",
       "      <td>...</td>\n",
       "      <td>...</td>\n",
       "    </tr>\n",
       "    <tr>\n",
       "      <th>58</th>\n",
       "      <td>백승호, 3부 탈출 꿈도 못 꾸나... 감독 사랑 독차지 \"앞으로 몇 년 동안 팀 핵심\"</td>\n",
       "      <td>https://m.sports.naver.com/wfootball/article/4...</td>\n",
       "      <td>20240928</td>\n",
       "    </tr>\n",
       "    <tr>\n",
       "      <th>59</th>\n",
       "      <td>당당했던 태도는 어디에? 태세 전환한 슬롯, \"리버풀에 에이스 3인방 있어 너무 행복해\"</td>\n",
       "      <td>https://m.sports.naver.com/wfootball/article/4...</td>\n",
       "      <td>20240928</td>\n",
       "    </tr>\n",
       "    <tr>\n",
       "      <th>60</th>\n",
       "      <td>'결국 탈났다' 강행군 소화하던 손흥민, 경기 도중 부상 의심 교체 아웃...A매치...</td>\n",
       "      <td>https://m.sports.naver.com/wfootball/article/4...</td>\n",
       "      <td>20240928</td>\n",
       "    </tr>\n",
       "    <tr>\n",
       "      <th>61</th>\n",
       "      <td>‘천만다행이다!’ 손흥민, 큰 부상 아니다···포스텍 감독 “SON, 훈련 참여 원...</td>\n",
       "      <td>https://m.sports.naver.com/wfootball/article/1...</td>\n",
       "      <td>20240928</td>\n",
       "    </tr>\n",
       "    <tr>\n",
       "      <th>62</th>\n",
       "      <td>\"김민재 뮌헨급 아냐\" 마테우스, 이번엔 김민재 편... 투헬 비판 \"선수들이 안타...</td>\n",
       "      <td>https://m.sports.naver.com/wfootball/article/4...</td>\n",
       "      <td>20240928</td>\n",
       "    </tr>\n",
       "  </tbody>\n",
       "</table>\n",
       "<p>63 rows × 3 columns</p>\n",
       "</div>"
      ],
      "text/plain": [
       "                                                title  \\\n",
       "0    손흥민 EPL 베스트11 선정, 토트넘 대표 선수로 뽑혔다... 홀란·살라 미친 스리톱   \n",
       "1   \"김민재, 콤파니 감독과 호흡 좋다\" 평가에도 '키커'는 여전히 부정적...\"이토가...   \n",
       "2   백승호, 3부 탈출 꿈도 못 꾸나... 감독 사랑 독차지 \"앞으로 몇 년 동안 팀 핵심\"   \n",
       "3   당당했던 태도는 어디에? 태세 전환한 슬롯, \"리버풀에 에이스 3인방 있어 너무 행복해\"   \n",
       "4   '결국 탈났다' 강행군 소화하던 손흥민, 경기 도중 부상 의심 교체 아웃...A매치...   \n",
       "..                                                ...   \n",
       "58  백승호, 3부 탈출 꿈도 못 꾸나... 감독 사랑 독차지 \"앞으로 몇 년 동안 팀 핵심\"   \n",
       "59  당당했던 태도는 어디에? 태세 전환한 슬롯, \"리버풀에 에이스 3인방 있어 너무 행복해\"   \n",
       "60  '결국 탈났다' 강행군 소화하던 손흥민, 경기 도중 부상 의심 교체 아웃...A매치...   \n",
       "61  ‘천만다행이다!’ 손흥민, 큰 부상 아니다···포스텍 감독 “SON, 훈련 참여 원...   \n",
       "62  \"김민재 뮌헨급 아냐\" 마테우스, 이번엔 김민재 편... 투헬 비판 \"선수들이 안타...   \n",
       "\n",
       "                                                  url      date  \n",
       "0   https://m.sports.naver.com/wfootball/article/1...  20240920  \n",
       "1   https://m.sports.naver.com/wfootball/article/1...  20240920  \n",
       "2   https://m.sports.naver.com/wfootball/article/4...  20240920  \n",
       "3   https://m.sports.naver.com/wfootball/article/4...  20240920  \n",
       "4   https://m.sports.naver.com/wfootball/article/4...  20240920  \n",
       "..                                                ...       ...  \n",
       "58  https://m.sports.naver.com/wfootball/article/4...  20240928  \n",
       "59  https://m.sports.naver.com/wfootball/article/4...  20240928  \n",
       "60  https://m.sports.naver.com/wfootball/article/4...  20240928  \n",
       "61  https://m.sports.naver.com/wfootball/article/1...  20240928  \n",
       "62  https://m.sports.naver.com/wfootball/article/4...  20240928  \n",
       "\n",
       "[63 rows x 3 columns]"
      ]
     },
     "execution_count": 55,
     "metadata": {},
     "output_type": "execute_result"
    }
   ],
   "source": [
    "# 수집한 데이터로 최종 데이터 프레임 생성하기\n",
    "df = pd.DataFrame(total_news_list, columns=['title', 'url', 'date'])\n",
    "df"
   ]
  },
  {
   "cell_type": "code",
   "execution_count": 57,
   "metadata": {
    "ExecuteTime": {
     "end_time": "2024-09-27T15:38:25.340413Z",
     "start_time": "2024-09-27T15:38:25.327274Z"
    },
    "id": "6MDLnoMQpyv2"
   },
   "outputs": [],
   "source": [
    "# CSV 데이터 저장하기\n",
    "\n",
    "import os\n",
    "\n",
    "path = '/Users/ranny/GDSC EWHA/' # YOUR_PATH\n",
    "file_name = f'해외축구_네이버_뉴스_{date_range[0]}_{date_range[-1]}.csv'\n",
    "\n",
    "df.to_csv(os.path.join(path, file_name), index = False)"
   ]
  }
 ],
 "metadata": {
  "colab": {
   "authorship_tag": "ABX9TyOpzLovn7VPVuWZBCO8cKCK",
   "provenance": [
    {
     "file_id": "1SPIFhvZ6ut2dxjpCwZdBZRWxxge5RAuN",
     "timestamp": 1722786784104
    }
   ]
  },
  "kernelspec": {
   "display_name": "Python 3 (ipykernel)",
   "language": "python",
   "name": "python3"
  },
  "language_info": {
   "codemirror_mode": {
    "name": "ipython",
    "version": 3
   },
   "file_extension": ".py",
   "mimetype": "text/x-python",
   "name": "python",
   "nbconvert_exporter": "python",
   "pygments_lexer": "ipython3",
   "version": "3.12.2"
  },
  "toc": {
   "base_numbering": 1,
   "nav_menu": {},
   "number_sections": true,
   "sideBar": true,
   "skip_h1_title": false,
   "title_cell": "Table of Contents",
   "title_sidebar": "Contents",
   "toc_cell": false,
   "toc_position": {},
   "toc_section_display": true,
   "toc_window_display": false
  },
  "varInspector": {
   "cols": {
    "lenName": 16,
    "lenType": 16,
    "lenVar": 40
   },
   "kernels_config": {
    "python": {
     "delete_cmd_postfix": "",
     "delete_cmd_prefix": "del ",
     "library": "var_list.py",
     "varRefreshCmd": "print(var_dic_list())"
    },
    "r": {
     "delete_cmd_postfix": ") ",
     "delete_cmd_prefix": "rm(",
     "library": "var_list.r",
     "varRefreshCmd": "cat(var_dic_list()) "
    }
   },
   "types_to_exclude": [
    "module",
    "function",
    "builtin_function_or_method",
    "instance",
    "_Feature"
   ],
   "window_display": false
  }
 },
 "nbformat": 4,
 "nbformat_minor": 1
}
