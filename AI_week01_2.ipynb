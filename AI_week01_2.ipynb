{
 "cells": [
  {
   "cell_type": "markdown",
   "id": "74f18cef",
   "metadata": {},
   "source": [
    "# [복습 과제2] 뉴스 본문 수집하기\n",
    "\n",
    "1. 앞서 실습에서 진행한 데이터프레임을 불러와 학습한 개념을 응용해 각 URL로 접속하여 뉴스 본문을 수집합니다.\n",
    "2. 제목, (입력) 날짜, 본문, 언론사 정보, URL을 하나의 데이터프레임으로 생성해 추출합니다.\n",
    "3. 최종적으로 '제목', '날짜', '본문', '언론사', 'url' 5개의 컬럼을 생성한 데이터프레임을 만들어 CSV 파일을 추출합니다. Slack 채널에는 데이터프레임 이미지를 캡처해 댓글로 업로드합니다."
   ]
  },
  {
   "cell_type": "code",
   "execution_count": 80,
   "id": "a9007f9e",
   "metadata": {
    "ExecuteTime": {
     "end_time": "2024-09-27T22:54:23.800380Z",
     "start_time": "2024-09-27T22:54:21.996746Z"
    }
   },
   "outputs": [
    {
     "name": "stdout",
     "output_type": "stream",
     "text": [
      "Requirement already satisfied: selenium in /opt/anaconda3/lib/python3.12/site-packages (4.25.0)\n",
      "Requirement already satisfied: urllib3<3,>=1.26 in /opt/anaconda3/lib/python3.12/site-packages (from urllib3[socks]<3,>=1.26->selenium) (2.2.2)\n",
      "Requirement already satisfied: trio~=0.17 in /opt/anaconda3/lib/python3.12/site-packages (from selenium) (0.26.2)\n",
      "Requirement already satisfied: trio-websocket~=0.9 in /opt/anaconda3/lib/python3.12/site-packages (from selenium) (0.11.1)\n",
      "Requirement already satisfied: certifi>=2021.10.8 in /opt/anaconda3/lib/python3.12/site-packages (from selenium) (2024.8.30)\n",
      "Requirement already satisfied: typing_extensions~=4.9 in /opt/anaconda3/lib/python3.12/site-packages (from selenium) (4.11.0)\n",
      "Requirement already satisfied: websocket-client~=1.8 in /opt/anaconda3/lib/python3.12/site-packages (from selenium) (1.8.0)\n",
      "Requirement already satisfied: attrs>=23.2.0 in /opt/anaconda3/lib/python3.12/site-packages (from trio~=0.17->selenium) (24.2.0)\n",
      "Requirement already satisfied: sortedcontainers in /opt/anaconda3/lib/python3.12/site-packages (from trio~=0.17->selenium) (2.4.0)\n",
      "Requirement already satisfied: idna in /opt/anaconda3/lib/python3.12/site-packages (from trio~=0.17->selenium) (3.7)\n",
      "Requirement already satisfied: outcome in /opt/anaconda3/lib/python3.12/site-packages (from trio~=0.17->selenium) (1.3.0.post0)\n",
      "Requirement already satisfied: sniffio>=1.3.0 in /opt/anaconda3/lib/python3.12/site-packages (from trio~=0.17->selenium) (1.3.0)\n",
      "Requirement already satisfied: wsproto>=0.14 in /opt/anaconda3/lib/python3.12/site-packages (from trio-websocket~=0.9->selenium) (1.2.0)\n",
      "Requirement already satisfied: pysocks!=1.5.7,<2.0,>=1.5.6 in /opt/anaconda3/lib/python3.12/site-packages (from urllib3[socks]<3,>=1.26->selenium) (1.7.1)\n",
      "Requirement already satisfied: h11<1,>=0.9.0 in /opt/anaconda3/lib/python3.12/site-packages (from wsproto>=0.14->trio-websocket~=0.9->selenium) (0.14.0)\n",
      "zsh:1: command not found: apt-get\n",
      "The operation couldn’t be completed. Unable to locate a Java Runtime.\n",
      "Please visit http://www.java.com for information on installing Java.\n",
      "\n",
      "cp: /usr/lib/chromium-browser/chromedriver: No such file or directory\n",
      "Requirement already satisfied: chromedriver-autoinstaller in /opt/anaconda3/lib/python3.12/site-packages (0.6.4)\n",
      "Requirement already satisfied: packaging>=23.1 in /opt/anaconda3/lib/python3.12/site-packages (from chromedriver-autoinstaller) (24.1)\n"
     ]
    }
   ],
   "source": [
    "!pip install selenium\n",
    "!apt-get update\n",
    "!apt install chromium-chromedriver\n",
    "!cp /usr/lib/chromium-browser/chromedriver '/content/drive/MyDrive/Colab Notebooks'\n",
    "!pip install chromedriver-autoinstaller"
   ]
  },
  {
   "cell_type": "code",
   "execution_count": 81,
   "id": "e4e73e62",
   "metadata": {
    "ExecuteTime": {
     "end_time": "2024-09-27T22:54:25.355278Z",
     "start_time": "2024-09-27T22:54:25.224926Z"
    }
   },
   "outputs": [
    {
     "name": "stdout",
     "output_type": "stream",
     "text": [
      "Python 3.12.2\n",
      "4.25.0\n"
     ]
    }
   ],
   "source": [
    "# selenium 설치 확인\n",
    "\n",
    "!python --version\n",
    "\n",
    "import selenium\n",
    "print(selenium.__version__)"
   ]
  },
  {
   "cell_type": "code",
   "execution_count": 82,
   "id": "cfc5113b",
   "metadata": {
    "ExecuteTime": {
     "end_time": "2024-09-27T22:54:27.383474Z",
     "start_time": "2024-09-27T22:54:27.378122Z"
    }
   },
   "outputs": [],
   "source": [
    "from selenium import webdriver\n",
    "from selenium.webdriver.support.ui import WebDriverWait\n",
    "from selenium.webdriver.support import expected_conditions as EC\n",
    "from selenium.webdriver.common.by import By\n",
    "import sys\n",
    "from selenium.webdriver.common.keys import Keys\n",
    "import urllib.request\n",
    "import os\n",
    "from urllib.request import urlretrieve\n",
    "\n",
    "import time\n",
    "import pandas as pd\n",
    "import chromedriver_autoinstaller  # setup chrome options\n",
    "import re\n",
    "from bs4 import BeautifulSoup\n"
   ]
  },
  {
   "cell_type": "code",
   "execution_count": 83,
   "id": "48e511be",
   "metadata": {
    "ExecuteTime": {
     "end_time": "2024-09-27T22:54:28.947287Z",
     "start_time": "2024-09-27T22:54:28.423159Z"
    }
   },
   "outputs": [],
   "source": [
    "#  ChromeDriver를 자동으로 설치하고 경로를 반환합니다.\n",
    "chrome_path = chromedriver_autoinstaller.install()  "
   ]
  },
  {
   "cell_type": "code",
   "execution_count": null,
   "id": "0adf12f1",
   "metadata": {
    "ExecuteTime": {
     "end_time": "2024-09-27T22:54:28.974669Z",
     "start_time": "2024-09-27T22:54:28.974663Z"
    }
   },
   "outputs": [],
   "source": [
    "sys.path.insert(0,chrome_path)\n",
    "chrome_options = webdriver.ChromeOptions()\n",
    "chrome_options.add_argument('--headless') # Colab은 새창을 지원하지않기 때문에 창을 띄우지 않는 Headless 모드로 실행해야 합니다.\n",
    "chrome_options.add_argument('--no-sandbox')\n",
    "chrome_options.add_argument('--disable-dev-shm-usage')  # set path to chromedriver as per your configuration\n",
    "chrome_options.add_argument('lang=ko_KR') # 한국어\n",
    "\n",
    "chromedriver_autoinstaller.install()  # set the target URL"
   ]
  },
  {
   "cell_type": "code",
   "execution_count": 84,
   "id": "76f6e3b0",
   "metadata": {
    "ExecuteTime": {
     "end_time": "2024-09-27T22:54:31.544935Z",
     "start_time": "2024-09-27T22:54:31.020094Z"
    }
   },
   "outputs": [],
   "source": [
    "# 셀레니움 라이브러리를 사용하여 Chrome 웹 브라우저를 자동으로 제어하기 위해\n",
    "# ChromeDriver를 초기화하는 코드\n",
    "driver = webdriver.Chrome(options=chrome_options)"
   ]
  },
  {
   "cell_type": "code",
   "execution_count": 108,
   "id": "9371fab3",
   "metadata": {
    "ExecuteTime": {
     "end_time": "2024-09-27T23:55:26.389412Z",
     "start_time": "2024-09-27T23:55:26.373403Z"
    }
   },
   "outputs": [
    {
     "data": {
      "text/html": [
       "<div>\n",
       "<style scoped>\n",
       "    .dataframe tbody tr th:only-of-type {\n",
       "        vertical-align: middle;\n",
       "    }\n",
       "\n",
       "    .dataframe tbody tr th {\n",
       "        vertical-align: top;\n",
       "    }\n",
       "\n",
       "    .dataframe thead th {\n",
       "        text-align: right;\n",
       "    }\n",
       "</style>\n",
       "<table border=\"1\" class=\"dataframe\">\n",
       "  <thead>\n",
       "    <tr style=\"text-align: right;\">\n",
       "      <th></th>\n",
       "      <th>title</th>\n",
       "      <th>url</th>\n",
       "      <th>date</th>\n",
       "      <th>hits</th>\n",
       "    </tr>\n",
       "  </thead>\n",
       "  <tbody>\n",
       "    <tr>\n",
       "      <th>0</th>\n",
       "      <td>'김도영 35호포→나성범 동점포→이우성 9회 결승타' 0-5 뒤집은 KIA, 챔피언...</td>\n",
       "      <td>https://m.sports.naver.com/kbaseball/article/0...</td>\n",
       "      <td>20240901</td>\n",
       "      <td>조회수139,376</td>\n",
       "    </tr>\n",
       "    <tr>\n",
       "      <th>1</th>\n",
       "      <td>'초비상' 롯데, 팀 최다 홈런 손호영 사구 후 교체...149km 직구 오른손 강...</td>\n",
       "      <td>https://m.sports.naver.com/kbaseball/article/3...</td>\n",
       "      <td>20240901</td>\n",
       "      <td>조회수131,960</td>\n",
       "    </tr>\n",
       "    <tr>\n",
       "      <th>2</th>\n",
       "      <td>“진짜 말도 안 되는 인생 홈런” 스리런 포함 3안타 5타점 먹방쇼→15-13 승리...</td>\n",
       "      <td>https://m.sports.naver.com/kbaseball/article/1...</td>\n",
       "      <td>20240901</td>\n",
       "      <td>조회수125,209</td>\n",
       "    </tr>\n",
       "    <tr>\n",
       "      <th>3</th>\n",
       "      <td>‘예외 없다’ KIA, 2위 삼성 연파하고 6.5게임 차 선두…매직넘버 12</td>\n",
       "      <td>https://m.sports.naver.com/kbaseball/article/1...</td>\n",
       "      <td>20240901</td>\n",
       "      <td>조회수122,346</td>\n",
       "    </tr>\n",
       "    <tr>\n",
       "      <th>4</th>\n",
       "      <td>한화이글스, 올해도 가을 야구는 멀어지나</td>\n",
       "      <td>https://m.sports.naver.com/kbaseball/article/6...</td>\n",
       "      <td>20240901</td>\n",
       "      <td>조회수114,159</td>\n",
       "    </tr>\n",
       "    <tr>\n",
       "      <th>...</th>\n",
       "      <td>...</td>\n",
       "      <td>...</td>\n",
       "      <td>...</td>\n",
       "      <td>...</td>\n",
       "    </tr>\n",
       "    <tr>\n",
       "      <th>515</th>\n",
       "      <td>[공식] 배찬승 4억-구단 역대 2위→원태인보다 많다, 삼성 2025 신인 계약…심...</td>\n",
       "      <td>https://m.sports.naver.com/kbaseball/article/4...</td>\n",
       "      <td>20240927</td>\n",
       "      <td>조회수62,457</td>\n",
       "    </tr>\n",
       "    <tr>\n",
       "      <th>516</th>\n",
       "      <td>김도영, 와이스→반즈→하트? 왜 외인 에이스만 계속 만나나…'토종 최초 40-40'...</td>\n",
       "      <td>https://m.sports.naver.com/kbaseball/article/3...</td>\n",
       "      <td>20240927</td>\n",
       "      <td>조회수61,783</td>\n",
       "    </tr>\n",
       "    <tr>\n",
       "      <th>517</th>\n",
       "      <td>'MVP 예약' KIA 김도영→오늘(27일) 홈런 기대감 높은 이유, 드디어 다시 ...</td>\n",
       "      <td>https://m.sports.naver.com/kbaseball/article/1...</td>\n",
       "      <td>20240927</td>\n",
       "      <td>조회수59,023</td>\n",
       "    </tr>\n",
       "    <tr>\n",
       "      <th>518</th>\n",
       "      <td>'미친 폭염' 혼난 KBO, 2025시즌 7·8월 일요일·공휴일 오후 6시 개시 변...</td>\n",
       "      <td>https://m.sports.naver.com/kbaseball/article/3...</td>\n",
       "      <td>20240927</td>\n",
       "      <td>조회수58,587</td>\n",
       "    </tr>\n",
       "    <tr>\n",
       "      <th>519</th>\n",
       "      <td>[오피셜] LG, KBO 43년 역사상 최초 대기록 '쾌거'... 롯데 넘고 최다 ...</td>\n",
       "      <td>https://m.sports.naver.com/kbaseball/article/1...</td>\n",
       "      <td>20240927</td>\n",
       "      <td>조회수58,111</td>\n",
       "    </tr>\n",
       "  </tbody>\n",
       "</table>\n",
       "<p>520 rows × 4 columns</p>\n",
       "</div>"
      ],
      "text/plain": [
       "                                                 title  \\\n",
       "0    '김도영 35호포→나성범 동점포→이우성 9회 결승타' 0-5 뒤집은 KIA, 챔피언...   \n",
       "1    '초비상' 롯데, 팀 최다 홈런 손호영 사구 후 교체...149km 직구 오른손 강...   \n",
       "2    “진짜 말도 안 되는 인생 홈런” 스리런 포함 3안타 5타점 먹방쇼→15-13 승리...   \n",
       "3           ‘예외 없다’ KIA, 2위 삼성 연파하고 6.5게임 차 선두…매직넘버 12   \n",
       "4                               한화이글스, 올해도 가을 야구는 멀어지나   \n",
       "..                                                 ...   \n",
       "515  [공식] 배찬승 4억-구단 역대 2위→원태인보다 많다, 삼성 2025 신인 계약…심...   \n",
       "516  김도영, 와이스→반즈→하트? 왜 외인 에이스만 계속 만나나…'토종 최초 40-40'...   \n",
       "517  'MVP 예약' KIA 김도영→오늘(27일) 홈런 기대감 높은 이유, 드디어 다시 ...   \n",
       "518  '미친 폭염' 혼난 KBO, 2025시즌 7·8월 일요일·공휴일 오후 6시 개시 변...   \n",
       "519  [오피셜] LG, KBO 43년 역사상 최초 대기록 '쾌거'... 롯데 넘고 최다 ...   \n",
       "\n",
       "                                                   url      date        hits  \n",
       "0    https://m.sports.naver.com/kbaseball/article/0...  20240901  조회수139,376  \n",
       "1    https://m.sports.naver.com/kbaseball/article/3...  20240901  조회수131,960  \n",
       "2    https://m.sports.naver.com/kbaseball/article/1...  20240901  조회수125,209  \n",
       "3    https://m.sports.naver.com/kbaseball/article/1...  20240901  조회수122,346  \n",
       "4    https://m.sports.naver.com/kbaseball/article/6...  20240901  조회수114,159  \n",
       "..                                                 ...       ...         ...  \n",
       "515  https://m.sports.naver.com/kbaseball/article/4...  20240927   조회수62,457  \n",
       "516  https://m.sports.naver.com/kbaseball/article/3...  20240927   조회수61,783  \n",
       "517  https://m.sports.naver.com/kbaseball/article/1...  20240927   조회수59,023  \n",
       "518  https://m.sports.naver.com/kbaseball/article/3...  20240927   조회수58,587  \n",
       "519  https://m.sports.naver.com/kbaseball/article/1...  20240927   조회수58,111  \n",
       "\n",
       "[520 rows x 4 columns]"
      ]
     },
     "execution_count": 108,
     "metadata": {},
     "output_type": "execute_result"
    }
   ],
   "source": [
    "df = pd.read_csv('프로야구_네이버_뉴스_20240901_20240927.csv')\n",
    "df"
   ]
  },
  {
   "cell_type": "code",
   "execution_count": 24,
   "id": "71216fc3",
   "metadata": {
    "ExecuteTime": {
     "end_time": "2024-09-27T21:23:08.135168Z",
     "start_time": "2024-09-27T21:03:51.493699Z"
    }
   },
   "outputs": [
    {
     "data": {
      "application/vnd.jupyter.widget-view+json": {
       "model_id": "6540805447614deaba5ded15a63f2b2e",
       "version_major": 2,
       "version_minor": 0
      },
      "text/plain": [
       "  0%|          | 0/540 [00:00<?, ?it/s]"
      ]
     },
     "metadata": {},
     "output_type": "display_data"
    }
   ],
   "source": [
    "# 뉴스 본문\n",
    "from tqdm.auto import tqdm\n",
    "\n",
    "\n",
    "news_contents = []\n",
    "for url in tqdm(df['url']):\n",
    "    driver.get(url)\n",
    "    \n",
    "    time.sleep(2)\n",
    "    \n",
    "    html = driver.page_source\n",
    "    soup = BeautifulSoup(html, 'html.parser')\n",
    "    \n",
    "    article_content = soup.find('div', class_='_article_content')\n",
    "    \n",
    "    # 'em' 태그의 class='img_desc'의 텍스트 제거 \n",
    "    for em_tag in article_content.find_all('em', class_='img_desc'):\n",
    "        em_tag.decompose()\n",
    "        \n",
    "    # <br><br> 태그는 두 칸 띄우기\n",
    "    for br in article_content.find_all('br'):\n",
    "        br.replace_with(\"\\n\\n\")\n",
    "\n",
    "    \n",
    "    # article_content는 BeautifulSoup의 객체로, 특정 HTML 요소 나타낸다.\n",
    "    # 해당 요소에서 텍스트 추출! \n",
    "    # get_text()해당 요소, 자식 요소에 포함된 모든 텍스트를 문자열 형태로 추출\n",
    "    article_text = article_content.get_text(strip=True)\n",
    "    news_contents.append(article_text)"
   ]
  },
  {
   "cell_type": "code",
   "execution_count": 86,
   "id": "5db3a6c3",
   "metadata": {
    "ExecuteTime": {
     "end_time": "2024-09-27T22:54:34.934798Z",
     "start_time": "2024-09-27T22:54:34.929676Z"
    }
   },
   "outputs": [
    {
     "data": {
      "text/plain": [
       "'[대구=스포츠조선 김영록 기자] \\'2위 사냥꾼\\' KIA 타이거즈의 명성이 또한번 발휘됐다. 2위 삼성 라이온즈를 저멀리 차내며 거침없는 1위 질주를 이어갔다.KIA는 1일 대구 삼성라이온즈파크에서 열린 삼성전에서 9회초 터진 이우성의 결승타로 6대5, 기적같은 역전승을 거뒀다.이날 승리로 KIA는 75승째(49패2무)를 기록, 2위 삼성을 6경기반 차이로 멀리 떨쳐내며 굳건한 선두를 유지했다. 2017년 이후 첫 정규시즌-한국시리즈 통합 우승이 눈앞으로 다가왔다. 올시즌 NC 다이노스를 시작으로 LG 트윈스, 두산 베어스 등 숱한 팀들이 2위까지 추격했다가 KIA와의 시리즈에서 무너졌다. 삼성도 예외가 되지 못했다.삼성은 56패째(69승2무)를 기록했다. 박병호가 연타석포를 가동하며 2경기 3홈런을 쏘아올린 이번 시리즈다. 하지만 2경기 연속 \\'돌부처\\' 오승환이 고비 때마다 무너지며 올시즌 가장 중요한 순간 2연패를 막지 못했다.이날 KIA는 박찬호(유격수) 소크라테스(중견수) 김도영(3루) 최형우(좌익수) 나성범(지명타자) 김선빈(2루) 이우성(1루) 김태군(포수) 최원준(우익수)으로 맞섰다. 선발은 에릭 스타우트.삼성은 김지찬(중견수) 김헌곤(우익수) 구자욱(좌익수) 디아즈(지명타자) 박병호(1루) 강민호(포수) 전병우(3루) 안주형(2루) 양도근(유격수) 라인업으로 경기에 임했다. 선발은 원태인.제임스 네일의 대체 외국인 선수로 합류한 KIA 스타우트는 이날이 KBO리그 데뷔전이었다. 선발의 무게감은 일단 원태인 쪽으로 쏠렸지만, 스타우트의 기량에 따라 향후 정규시즌 판도도 파도칠 가능성이 높다.삼성은 류지혁-김영웅에 이어 전날 수비 도중 이재현마저 부상으로 빠진 공백이 크게 느껴진다. 유격수로 나선 양도근은 장안고-강릉영동대를 거쳐 올해 삼성에 육성선수로 입단한 신인 내야수다. 이날 경기가 1군 데뷔전이었다.KIA는 2회초 최형우 나성범의 연속 안타에 이은 김선빈의 희생번트로 먼저 득점 찬스를 잡았다. 하지만 김태군이 우익수 쪽 짧은 뜬공에 그쳤고, 삼성 김헌곤의 홈송구에 스타트를 끊을 엄두도 내지 못했다. 다음타자 최원준도 11구까지 가는 혈투 끝에 우익수 뜬공으로 이닝 종료.도리어 2회말 선취점을 내줬다. 선두타자 디아즈가 볼넷으로 나갔고, 박병호가 시즌 17호 홈런을 쏘아올렸다. 이어진 2사 1루에서 신인 양도근이 좌중간 1타점 3루타를 때려내며 3점째를 뽑았다.KIA는 3회초에도 2사 후 김도영이 3루타를 쳤지만 득점에 실패했다. 오히려 삼성이 3회말 박병호의 연타석 투런포로 5-0까지 달아났다. 이때까지만 해도 삼성의 승리가 유력해보였다.KIA는 4회초 무사 1,3루에서 이우성의 희생플라이로 1점을 만회했다. 이어 5회초 2사 후 김도영의 볼넷, 최형우의 1타점 2루타, 나성범의 적시타가 이어지며 3-5까지 따라붙었다.KIA 벤치는 4회까지 투구수 97개를 기록한 스타우트를 5회 시작과 함께 교체했다. 두번째 투수 김기훈은 7회까지 3이닝 동안 실점없이 잘 버텼다.KIA는 삼성 선발 원태인이 내려간 7회초 대역전의 물꼬를 텄다. 최지광을 상대로 김도영이 추격의 솔로포를 쏘아올렸고, 바뀐 투수 오승환에게 나성범이 동점포를 터뜨렸다.8회초 소크라테스가 2루까지 뛰다 아웃되고, 8회말 1사 1,2루 위기를 맞이하며 흔들리는 듯 했다. 하지만 필승조 전상현이 디아즈 박병호를 연속 삼진으로 돌려세웠다.그리고 운명의 9회초, 2사 후 김선빈이 안타로 출루했다. 이어 이우성이 좌중간 펜스를 직격하는 2루타를 치며 결승점을 뽑았다. 대주자 홍종표의 폭발적인 홈질주도 돋보였다.KIA는 9회말 수비를 앞두고 마무리 정해영을 비롯해 포수 한승택, 1루에 김규성, 2루 홍종표, 중견수 김호령을 잇따라 투입하며 수비를 강화했다. 선수들도 사령탑의 이 같은 바람에 걸맞게 승리로 경기를 마무리지었다.경기 후 이범호 감독은 \"경기 초반 5점을 뒤진 상황에서도 타자들이 포기하지 않고 끝까지 따라가면서 경기를 뒤집을 수 있었다. 이우성이 팀의 첫 타점과 결정적인 결승타로 맹활약을 해줬고, 나성범이 동점 홈런 등 4안타로 공격을 잘 이끌어줬다. 김도영, 최형우, 나성범, 김선빈으로 이어진 중심타선의 활약이 좋았다\"고 돌아봤다.이어 \"투수 쪽에서는 김기훈이 3이닝을 던지는 동안 단 1피안타로 상대 타선을 막아내면서 따라갈 수 있는 여건을 만들어줬다. 올 시즌 가장 인상깊은 투구였다. 이후 이준영, 전상현, 정해영으로 이어진 계투진이 모두 제 몫을 해내면서 짜릿한 역전승을 거둘 수 있었다\"고 칭찬했다.\"선수들의 이기고자 하는 의지가 느껴진 경기였다. 모두들 수고 많았다. 끝까지 함께 해주신 팬 분들께도 감사드리며, 다음주에도 좋은 경기 하겠다.\"'"
      ]
     },
     "execution_count": 86,
     "metadata": {},
     "output_type": "execute_result"
    }
   ],
   "source": [
    "news_contents[0]"
   ]
  },
  {
   "cell_type": "code",
   "execution_count": 103,
   "id": "db9a0010",
   "metadata": {
    "ExecuteTime": {
     "end_time": "2024-09-27T23:34:30.048966Z",
     "start_time": "2024-09-27T23:34:27.860605Z"
    }
   },
   "outputs": [
    {
     "data": {
      "text/plain": [
       "['OSEN']"
      ]
     },
     "execution_count": 103,
     "metadata": {},
     "output_type": "execute_result"
    }
   ],
   "source": [
    "url = 'https://m.sports.naver.com/kbaseball/article/109/0005147668'\n",
    "driver.get(url)\n",
    "    \n",
    "time.sleep(2)\n",
    "    \n",
    "html = driver.page_source\n",
    "soup = BeautifulSoup(html, 'html.parser')\n",
    "    \n",
    "    # soup.find('img')가 반환하는 객체는 리스트도 아니고 데이터프레임도 아님\n",
    "    # TAG객체로, HTML 또는 XML의 단일 요소를 나타낸다. \n",
    "    # []를 통해 속성에 접근할 수 잇다. \n",
    "    # <img> 태그를 나타내는 Tag객체를 반환 후 alt속성의 값을 반환한다\n",
    "    \n",
    "news_press = []\n",
    "    \n",
    "try:\n",
    "    news_section = soup.find('h3')\n",
    "    \n",
    "        # 이미지 태그\n",
    "    img = news_section.find('img')\n",
    "        # 이미지 태그의 alt 속성 값\n",
    "    news_agent = img['alt']\n",
    "except Exception as e:            # 예외 발생 시\n",
    "    news_agent = soup.find('em', class_=\"NewsEndMain_highlight__HWvAi\").get_text()\n",
    "\n",
    "finally:\n",
    "    news_press.append(news_agent)\n",
    "news_press\n",
    "\n",
    "    \n",
    "#news_l = soup.find('h3')\n",
    "#news_2 = news_l.find('alt').get_text()\n",
    "#news_2\n",
    "\n",
    "#img = news_l.find('img')  # <img> 태그 찾기\n",
    "#alt_text = img['alt']   # alt 속성 값 가져오기\n",
    "#alt_text\n",
    "    \n",
    "#news_section = soup.find(class_=\"NewsEndMain_image_media__rTvT1\")#\n",
    "#news_section"
   ]
  },
  {
   "cell_type": "code",
   "execution_count": 104,
   "id": "5fd20fc9",
   "metadata": {
    "ExecuteTime": {
     "end_time": "2024-09-27T23:53:08.348752Z",
     "start_time": "2024-09-27T23:34:43.874107Z"
    }
   },
   "outputs": [
    {
     "data": {
      "application/vnd.jupyter.widget-view+json": {
       "model_id": "e1cadae79ffd41e3bdf61e24127a1757",
       "version_major": 2,
       "version_minor": 0
      },
      "text/plain": [
       "  0%|          | 0/520 [00:00<?, ?it/s]"
      ]
     },
     "metadata": {},
     "output_type": "display_data"
    }
   ],
   "source": [
    "# 언론사 이름\n",
    "cnt = 0\n",
    "news_press = []\n",
    "for url in tqdm(df['url']):\n",
    "    driver.get(url)\n",
    "    \n",
    "    time.sleep(2)\n",
    "    \n",
    "    html = driver.page_source\n",
    "    soup = BeautifulSoup(html, 'html.parser')\n",
    "    \n",
    "    try:\n",
    "        news_section = soup.find('h3')\n",
    "    \n",
    "        # 이미지 태그\n",
    "        img = news_section.find('img')\n",
    "        # 이미지 태그의 alt 속성 값\n",
    "        news_agent = img['alt']\n",
    "    except Exception as e:# 예외 발생 시\n",
    "        news_agent = soup.find('em', class_=\"NewsEndMain_highlight__HWvAi\").get_text()\n",
    "\n",
    "    finally:\n",
    "        news_press.append(news_agent)"
   ]
  },
  {
   "cell_type": "code",
   "execution_count": 126,
   "id": "fbb918d3",
   "metadata": {
    "ExecuteTime": {
     "end_time": "2024-09-28T00:09:16.357884Z",
     "start_time": "2024-09-28T00:09:16.353276Z"
    }
   },
   "outputs": [
    {
     "data": {
      "text/plain": [
       "'스포티비뉴스'"
      ]
     },
     "execution_count": 126,
     "metadata": {},
     "output_type": "execute_result"
    }
   ],
   "source": [
    "news_press[5]"
   ]
  },
  {
   "cell_type": "code",
   "execution_count": 128,
   "id": "33a4dbaf",
   "metadata": {
    "ExecuteTime": {
     "end_time": "2024-09-28T00:09:21.911543Z",
     "start_time": "2024-09-28T00:09:21.907514Z"
    }
   },
   "outputs": [],
   "source": [
    "# 조회수 열 삭제\n",
    "df = df.drop('hits', axis = 1)"
   ]
  },
  {
   "cell_type": "code",
   "execution_count": 129,
   "id": "0d0e3993",
   "metadata": {
    "ExecuteTime": {
     "end_time": "2024-09-28T00:09:24.806603Z",
     "start_time": "2024-09-28T00:09:24.797346Z"
    }
   },
   "outputs": [
    {
     "data": {
      "text/plain": [
       "520"
      ]
     },
     "execution_count": 129,
     "metadata": {},
     "output_type": "execute_result"
    }
   ],
   "source": [
    "df['press'] = news_press\n",
    "# df['content'] = news_contents\n",
    "len(df['press'])"
   ]
  },
  {
   "cell_type": "code",
   "execution_count": 130,
   "id": "0e04cd1d",
   "metadata": {
    "ExecuteTime": {
     "end_time": "2024-09-28T00:09:26.417463Z",
     "start_time": "2024-09-28T00:09:26.409381Z"
    }
   },
   "outputs": [
    {
     "data": {
      "text/plain": [
       "520"
      ]
     },
     "execution_count": 130,
     "metadata": {},
     "output_type": "execute_result"
    }
   ],
   "source": [
    "news_contents = news_contents[:520]\n",
    "len(news_contents)"
   ]
  },
  {
   "cell_type": "code",
   "execution_count": 131,
   "id": "d2102226",
   "metadata": {
    "ExecuteTime": {
     "end_time": "2024-09-28T00:09:28.014532Z",
     "start_time": "2024-09-28T00:09:28.009729Z"
    }
   },
   "outputs": [],
   "source": [
    "df['content'] = news_contents"
   ]
  },
  {
   "cell_type": "code",
   "execution_count": 133,
   "id": "7053687c",
   "metadata": {
    "ExecuteTime": {
     "end_time": "2024-09-28T00:10:21.298711Z",
     "start_time": "2024-09-28T00:10:21.289786Z"
    }
   },
   "outputs": [],
   "source": [
    "df = df[['title', 'date', 'content', 'press', 'url']]"
   ]
  },
  {
   "cell_type": "code",
   "execution_count": 134,
   "id": "0516a0a8",
   "metadata": {
    "ExecuteTime": {
     "end_time": "2024-09-28T00:10:23.687761Z",
     "start_time": "2024-09-28T00:10:23.678176Z"
    }
   },
   "outputs": [
    {
     "data": {
      "text/html": [
       "<div>\n",
       "<style scoped>\n",
       "    .dataframe tbody tr th:only-of-type {\n",
       "        vertical-align: middle;\n",
       "    }\n",
       "\n",
       "    .dataframe tbody tr th {\n",
       "        vertical-align: top;\n",
       "    }\n",
       "\n",
       "    .dataframe thead th {\n",
       "        text-align: right;\n",
       "    }\n",
       "</style>\n",
       "<table border=\"1\" class=\"dataframe\">\n",
       "  <thead>\n",
       "    <tr style=\"text-align: right;\">\n",
       "      <th></th>\n",
       "      <th>title</th>\n",
       "      <th>date</th>\n",
       "      <th>content</th>\n",
       "      <th>press</th>\n",
       "      <th>url</th>\n",
       "    </tr>\n",
       "  </thead>\n",
       "  <tbody>\n",
       "    <tr>\n",
       "      <th>0</th>\n",
       "      <td>'김도영 35호포→나성범 동점포→이우성 9회 결승타' 0-5 뒤집은 KIA, 챔피언...</td>\n",
       "      <td>20240901</td>\n",
       "      <td>[대구=스포츠조선 김영록 기자] '2위 사냥꾼' KIA 타이거즈의 명성이 또한번 발...</td>\n",
       "      <td>스포츠조선</td>\n",
       "      <td>https://m.sports.naver.com/kbaseball/article/0...</td>\n",
       "    </tr>\n",
       "    <tr>\n",
       "      <th>1</th>\n",
       "      <td>'초비상' 롯데, 팀 최다 홈런 손호영 사구 후 교체...149km 직구 오른손 강...</td>\n",
       "      <td>20240901</td>\n",
       "      <td>(엑스포츠뉴스 잠실, 김지수 기자) 롯데 자이언츠 내야수 손호영이 9월 첫 경기 첫...</td>\n",
       "      <td>엑스포츠뉴스</td>\n",
       "      <td>https://m.sports.naver.com/kbaseball/article/3...</td>\n",
       "    </tr>\n",
       "    <tr>\n",
       "      <th>2</th>\n",
       "      <td>“진짜 말도 안 되는 인생 홈런” 스리런 포함 3안타 5타점 먹방쇼→15-13 승리...</td>\n",
       "      <td>20240901</td>\n",
       "      <td>[OSEN=대구, 손찬익 기자] “에너지가 넘칠 수밖에 없는 경기다. 오늘 경기의 ...</td>\n",
       "      <td>OSEN</td>\n",
       "      <td>https://m.sports.naver.com/kbaseball/article/1...</td>\n",
       "    </tr>\n",
       "    <tr>\n",
       "      <th>3</th>\n",
       "      <td>‘예외 없다’ KIA, 2위 삼성 연파하고 6.5게임 차 선두…매직넘버 12</td>\n",
       "      <td>20240901</td>\n",
       "      <td>[데일리안 = 김태훈 기자] 새 외국인 투수 에릭 스타우트는 기대에 미치지 못했지만...</td>\n",
       "      <td>데일리안</td>\n",
       "      <td>https://m.sports.naver.com/kbaseball/article/1...</td>\n",
       "    </tr>\n",
       "    <tr>\n",
       "      <th>4</th>\n",
       "      <td>한화이글스, 올해도 가을 야구는 멀어지나</td>\n",
       "      <td>20240901</td>\n",
       "      <td>5강 싸움 5위 kt에 일격 당해 2.5게임차로 벌어져잔여 22경기 중 1-3위 상...</td>\n",
       "      <td>대전일보</td>\n",
       "      <td>https://m.sports.naver.com/kbaseball/article/6...</td>\n",
       "    </tr>\n",
       "    <tr>\n",
       "      <th>...</th>\n",
       "      <td>...</td>\n",
       "      <td>...</td>\n",
       "      <td>...</td>\n",
       "      <td>...</td>\n",
       "      <td>...</td>\n",
       "    </tr>\n",
       "    <tr>\n",
       "      <th>515</th>\n",
       "      <td>[공식] 배찬승 4억-구단 역대 2위→원태인보다 많다, 삼성 2025 신인 계약…심...</td>\n",
       "      <td>20240927</td>\n",
       "      <td>[OSEN=창원, 조형래 기자] “마지막 인사도 못 드렸는데…”프로야구 NC 다이노...</td>\n",
       "      <td>스포츠서울</td>\n",
       "      <td>https://m.sports.naver.com/kbaseball/article/4...</td>\n",
       "    </tr>\n",
       "    <tr>\n",
       "      <th>516</th>\n",
       "      <td>김도영, 와이스→반즈→하트? 왜 외인 에이스만 계속 만나나…'토종 최초 40-40'...</td>\n",
       "      <td>20240927</td>\n",
       "      <td>[스타뉴스 | 광주=김동윤 기자]롯데 자이언츠 외국인 타자 빅터 레이예스(30)가 ...</td>\n",
       "      <td>엑스포츠뉴스</td>\n",
       "      <td>https://m.sports.naver.com/kbaseball/article/3...</td>\n",
       "    </tr>\n",
       "    <tr>\n",
       "      <th>517</th>\n",
       "      <td>'MVP 예약' KIA 김도영→오늘(27일) 홈런 기대감 높은 이유, 드디어 다시 ...</td>\n",
       "      <td>20240927</td>\n",
       "      <td>[스포티비뉴스=최민우 기자] 부상 공백이 느껴지지 않는다. 오랜 시간 경기에 뛰지 ...</td>\n",
       "      <td>스타뉴스</td>\n",
       "      <td>https://m.sports.naver.com/kbaseball/article/1...</td>\n",
       "    </tr>\n",
       "    <tr>\n",
       "      <th>518</th>\n",
       "      <td>'미친 폭염' 혼난 KBO, 2025시즌 7·8월 일요일·공휴일 오후 6시 개시 변...</td>\n",
       "      <td>20240927</td>\n",
       "      <td>[OSEN=잠실, 한용섭 기자] 프로야구 한화 이글스는 시즌 막판까지 5강 희망을 ...</td>\n",
       "      <td>엑스포츠뉴스</td>\n",
       "      <td>https://m.sports.naver.com/kbaseball/article/3...</td>\n",
       "    </tr>\n",
       "    <tr>\n",
       "      <th>519</th>\n",
       "      <td>[오피셜] LG, KBO 43년 역사상 최초 대기록 '쾌거'... 롯데 넘고 최다 ...</td>\n",
       "      <td>20240927</td>\n",
       "      <td>[스포티비뉴스=광주, 김태우 기자] KIA 외국인 타자 소크라테스 브리토(32)는 ...</td>\n",
       "      <td>스타뉴스</td>\n",
       "      <td>https://m.sports.naver.com/kbaseball/article/1...</td>\n",
       "    </tr>\n",
       "  </tbody>\n",
       "</table>\n",
       "<p>520 rows × 5 columns</p>\n",
       "</div>"
      ],
      "text/plain": [
       "                                                 title      date  \\\n",
       "0    '김도영 35호포→나성범 동점포→이우성 9회 결승타' 0-5 뒤집은 KIA, 챔피언...  20240901   \n",
       "1    '초비상' 롯데, 팀 최다 홈런 손호영 사구 후 교체...149km 직구 오른손 강...  20240901   \n",
       "2    “진짜 말도 안 되는 인생 홈런” 스리런 포함 3안타 5타점 먹방쇼→15-13 승리...  20240901   \n",
       "3           ‘예외 없다’ KIA, 2위 삼성 연파하고 6.5게임 차 선두…매직넘버 12  20240901   \n",
       "4                               한화이글스, 올해도 가을 야구는 멀어지나  20240901   \n",
       "..                                                 ...       ...   \n",
       "515  [공식] 배찬승 4억-구단 역대 2위→원태인보다 많다, 삼성 2025 신인 계약…심...  20240927   \n",
       "516  김도영, 와이스→반즈→하트? 왜 외인 에이스만 계속 만나나…'토종 최초 40-40'...  20240927   \n",
       "517  'MVP 예약' KIA 김도영→오늘(27일) 홈런 기대감 높은 이유, 드디어 다시 ...  20240927   \n",
       "518  '미친 폭염' 혼난 KBO, 2025시즌 7·8월 일요일·공휴일 오후 6시 개시 변...  20240927   \n",
       "519  [오피셜] LG, KBO 43년 역사상 최초 대기록 '쾌거'... 롯데 넘고 최다 ...  20240927   \n",
       "\n",
       "                                               content   press  \\\n",
       "0    [대구=스포츠조선 김영록 기자] '2위 사냥꾼' KIA 타이거즈의 명성이 또한번 발...   스포츠조선   \n",
       "1    (엑스포츠뉴스 잠실, 김지수 기자) 롯데 자이언츠 내야수 손호영이 9월 첫 경기 첫...  엑스포츠뉴스   \n",
       "2    [OSEN=대구, 손찬익 기자] “에너지가 넘칠 수밖에 없는 경기다. 오늘 경기의 ...    OSEN   \n",
       "3    [데일리안 = 김태훈 기자] 새 외국인 투수 에릭 스타우트는 기대에 미치지 못했지만...    데일리안   \n",
       "4    5강 싸움 5위 kt에 일격 당해 2.5게임차로 벌어져잔여 22경기 중 1-3위 상...    대전일보   \n",
       "..                                                 ...     ...   \n",
       "515  [OSEN=창원, 조형래 기자] “마지막 인사도 못 드렸는데…”프로야구 NC 다이노...   스포츠서울   \n",
       "516  [스타뉴스 | 광주=김동윤 기자]롯데 자이언츠 외국인 타자 빅터 레이예스(30)가 ...  엑스포츠뉴스   \n",
       "517  [스포티비뉴스=최민우 기자] 부상 공백이 느껴지지 않는다. 오랜 시간 경기에 뛰지 ...    스타뉴스   \n",
       "518  [OSEN=잠실, 한용섭 기자] 프로야구 한화 이글스는 시즌 막판까지 5강 희망을 ...  엑스포츠뉴스   \n",
       "519  [스포티비뉴스=광주, 김태우 기자] KIA 외국인 타자 소크라테스 브리토(32)는 ...    스타뉴스   \n",
       "\n",
       "                                                   url  \n",
       "0    https://m.sports.naver.com/kbaseball/article/0...  \n",
       "1    https://m.sports.naver.com/kbaseball/article/3...  \n",
       "2    https://m.sports.naver.com/kbaseball/article/1...  \n",
       "3    https://m.sports.naver.com/kbaseball/article/1...  \n",
       "4    https://m.sports.naver.com/kbaseball/article/6...  \n",
       "..                                                 ...  \n",
       "515  https://m.sports.naver.com/kbaseball/article/4...  \n",
       "516  https://m.sports.naver.com/kbaseball/article/3...  \n",
       "517  https://m.sports.naver.com/kbaseball/article/1...  \n",
       "518  https://m.sports.naver.com/kbaseball/article/3...  \n",
       "519  https://m.sports.naver.com/kbaseball/article/1...  \n",
       "\n",
       "[520 rows x 5 columns]"
      ]
     },
     "execution_count": 134,
     "metadata": {},
     "output_type": "execute_result"
    }
   ],
   "source": [
    "df"
   ]
  },
  {
   "cell_type": "code",
   "execution_count": 136,
   "id": "07481e7e",
   "metadata": {
    "ExecuteTime": {
     "end_time": "2024-09-28T00:12:53.870278Z",
     "start_time": "2024-09-28T00:12:53.829871Z"
    }
   },
   "outputs": [],
   "source": [
    "import os\n",
    "\n",
    "path = '/Users/ranny/GDSC EWHA/'\n",
    "file_name = '프로야구_네이버_뉴스_본문.csv'\n",
    "\n",
    "df.to_csv(os.path.join(path, file_name), index=False)"
   ]
  },
  {
   "cell_type": "code",
   "execution_count": null,
   "id": "f31318c2",
   "metadata": {},
   "outputs": [],
   "source": []
  }
 ],
 "metadata": {
  "kernelspec": {
   "display_name": "Python 3 (ipykernel)",
   "language": "python",
   "name": "python3"
  },
  "language_info": {
   "codemirror_mode": {
    "name": "ipython",
    "version": 3
   },
   "file_extension": ".py",
   "mimetype": "text/x-python",
   "name": "python",
   "nbconvert_exporter": "python",
   "pygments_lexer": "ipython3",
   "version": "3.12.2"
  },
  "toc": {
   "base_numbering": 1,
   "nav_menu": {},
   "number_sections": true,
   "sideBar": true,
   "skip_h1_title": false,
   "title_cell": "Table of Contents",
   "title_sidebar": "Contents",
   "toc_cell": false,
   "toc_position": {},
   "toc_section_display": true,
   "toc_window_display": false
  },
  "varInspector": {
   "cols": {
    "lenName": 16,
    "lenType": 16,
    "lenVar": 40
   },
   "kernels_config": {
    "python": {
     "delete_cmd_postfix": "",
     "delete_cmd_prefix": "del ",
     "library": "var_list.py",
     "varRefreshCmd": "print(var_dic_list())"
    },
    "r": {
     "delete_cmd_postfix": ") ",
     "delete_cmd_prefix": "rm(",
     "library": "var_list.r",
     "varRefreshCmd": "cat(var_dic_list()) "
    }
   },
   "types_to_exclude": [
    "module",
    "function",
    "builtin_function_or_method",
    "instance",
    "_Feature"
   ],
   "window_display": false
  }
 },
 "nbformat": 4,
 "nbformat_minor": 5
}
